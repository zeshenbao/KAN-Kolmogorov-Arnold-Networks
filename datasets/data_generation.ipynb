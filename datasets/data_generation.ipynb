{
 "cells": [
  {
   "cell_type": "markdown",
   "metadata": {},
   "source": [
    "New data generation file"
   ]
  },
  {
   "cell_type": "code",
   "execution_count": null,
   "metadata": {},
   "outputs": [],
   "source": [
    "import numpy as np\n",
    "import pandas as pd\n",
    "from noise import *\n",
    "import random\n",
    "import os \n",
    "from sklearn.model_selection import train_test_split  # Import train_test_split"
   ]
  },
  {
   "cell_type": "markdown",
   "metadata": {},
   "source": [
    "Functions Used for Data Generation"
   ]
  },
  {
   "cell_type": "code",
   "execution_count": null,
   "metadata": {},
   "outputs": [],
   "source": [
    "# x values\n",
    "def generate_x_values(start_x, end_x, n_datapoints):\n",
    "    # create n x values\n",
    "    xs = np.linspace(start_x, end_x, n_datapoints)\n",
    "    return xs"
   ]
  },
  {
   "cell_type": "code",
   "execution_count": null,
   "metadata": {},
   "outputs": [],
   "source": [
    "# True functions\n",
    "def x(xs):\n",
    "    return x\n",
    "\n",
    "def x_sq(xs):\n",
    "    return xs**2\n",
    "\n",
    "def sin(xs):\n",
    "    return np.sin(xs)"
   ]
  },
  {
   "cell_type": "code",
   "execution_count": 90,
   "metadata": {},
   "outputs": [],
   "source": [
    "# Noise functions\n",
    "def pink(xs):\n",
    "    return pink_noise(xs)\n",
    "\n",
    "def uniform(xs, lower_bound, upper_bound):\n",
    "    return np.random.uniform(lower_bound, upper_bound)"
   ]
  },
  {
   "cell_type": "code",
   "execution_count": 91,
   "metadata": {},
   "outputs": [],
   "source": [
    "# SNR\n",
    "def calculate_snr(y_true, y_noise): ### write own code later\n",
    "    # Calculate signal power\n",
    "    signal_power = np.mean(y_true ** 2)\n",
    "    # Calculate noise power\n",
    "    noise_power = np.mean((y_noise - y_true) ** 2)\n",
    "    # Calculate SNR\n",
    "    snr = signal_power / noise_power\n",
    "    # Convert to dB\n",
    "    snr_db = 10 * np.log10(snr)\n",
    "    return snr, snr_db"
   ]
  },
  {
   "cell_type": "markdown",
   "metadata": {},
   "source": [
    "Change Parameters for Data Generation Here"
   ]
  },
  {
   "cell_type": "code",
   "execution_count": 92,
   "metadata": {},
   "outputs": [],
   "source": [
    "# Dataset parameters\n",
    "n_datapoints = 100  # number of (total) datapoints generated\n",
    "start_x, end_x = -10, 10  # x values to be used\n",
    "\n",
    "# Train/validation split parameters\n",
    "train_size = 0.7\n",
    "validation_size = 0.2\n",
    "test_size = 0.1\n",
    "\n",
    "# Function parameters\n",
    "func = sin  # Available: x, x_sq, sin\n",
    "\n",
    "# Noise parameters\n",
    "noise = uniform  # Available: pink, uniform\n",
    "upper_bound, lower_bound = -1, 1  # If uniform noise"
   ]
  },
  {
   "cell_type": "markdown",
   "metadata": {},
   "source": [
    "Generation of Datasets"
   ]
  },
  {
   "cell_type": "code",
   "execution_count": 93,
   "metadata": {},
   "outputs": [],
   "source": [
    "# Dataset generation\n",
    "xs = generate_x_values(start_x, end_x, n_datapoints)  # x values\n",
    "y_true = function(xs)\n",
    "if noise == pink:\n",
    "    y_added_noise = noise(xs)\n",
    "elif noise == uniform:\n",
    "    y_added_noise = noise(xs, lower_bound, upper_bound)\n",
    "y_noise = y_true + y_added_noise\n",
    "\n",
    "# Calculate snr, snr_db for the entire dataset\n",
    "snr, snr_db = calculate_snr(y_true, y_noise)"
   ]
  },
  {
   "cell_type": "code",
   "execution_count": 94,
   "metadata": {},
   "outputs": [],
   "source": [
    "# Gather data\n",
    "data = {'x': xs,'y_noise': y_noise, 'y_true': y_true}\n",
    "df = pd.DataFrame(data)\n",
    "\n",
    "# Split into train/validation/test sets\n",
    "train_df, test_val_test_df = train_test_split(df, train_size=train_size, random_state=42)\n",
    "if test_size == 0:  # to be able to run the code when we don't need a test set\n",
    "    validation_df = test_val_test_df\n",
    "    test_df = None\n",
    "else:\n",
    "    validation_df, test_df = train_test_split(test_val_test_df, train_size=validation_size/(validation_size+test_size), random_state=42)"
   ]
  },
  {
   "cell_type": "code",
   "execution_count": 95,
   "metadata": {},
   "outputs": [
    {
     "name": "stdout",
     "output_type": "stream",
     "text": [
      "           x   y_noise    y_true\n",
      "11 -7.777778 -1.400727 -0.997098\n",
      "47 -0.505051 -0.887481 -0.483852\n",
      "85  7.171717  0.372518  0.776147\n",
      "28 -4.343434  0.529076  0.932705\n",
      "93  8.787879  0.191076  0.594705\n",
      "------------\n",
      "           x   y_noise    y_true\n",
      "96  9.393939 -0.372795  0.030834\n",
      "4  -9.191919 -0.634389 -0.230760\n",
      "42 -1.515152 -1.402081 -0.998452\n",
      "77  5.555556 -1.068731 -0.665102\n",
      "10 -7.979798 -1.395725 -0.992096\n",
      "------------\n",
      "           x   y_noise    y_true\n",
      "44 -1.111111 -1.299821 -0.896192\n",
      "76  5.353535 -1.205040 -0.801411\n",
      "39 -2.121212 -1.255936 -0.852307\n",
      "33 -3.333333 -0.213061  0.190568\n",
      "30 -3.939394  0.312193  0.715822\n"
     ]
    }
   ],
   "source": [
    "# Convert DataFrame to CSV\n",
    "print(train_df.head())\n",
    "print(\"------------\")\n",
    "print(test_df.head())\n",
    "print(\"------------\")\n",
    "print(validation_df.head())"
   ]
  },
  {
   "cell_type": "markdown",
   "metadata": {},
   "source": [
    "Save Data"
   ]
  },
  {
   "cell_type": "code",
   "execution_count": null,
   "metadata": {},
   "outputs": [
    {
     "name": "stdout",
     "output_type": "stream",
     "text": [
      "pink_sin\n"
     ]
    }
   ],
   "source": [
    "# Naming of the folder and file\n",
    "function_name = function.__name__\n",
    "noise_name = noise.__name__\n",
    "folder_name = noise_name + \"_\" + function_name\n",
    "print(folder_name)\n",
    "\n",
    "# Create folder\n",
    "os.makedirs(f'./datasets/{folder_name}', exist_ok=True)\n",
    "\n",
    "# Save training, validation, and test sets to CSV files\n",
    "df.to_csv(f'./datasets/{folder_name}/true_data.csv', index=False)\n",
    "train_df.to_csv(f'./datasets/{folder_name}/train_data.csv', index=False)\n",
    "validation_df.to_csv(f'./datasets/{folder_name}/validation_data.csv', index=False)\n",
    "test_df.to_csv(f'./datasets/{folder_name}/test_data.csv', index=False)\n",
    "\n",
    "# Save parameters to a text file\n",
    "file_path = f'./datasets/{folder_name}/params.txt'\n",
    "\n",
    "with open(file_path, \"w\") as file:\n",
    "    file.write(f\"n_datapoints: {n_datapoints}\\n\")\n",
    "    file.write(f\"start_x, end_x: {start_x, end_x }\\n\")\n",
    "    file.write(f\"snr, snr_db: {snr, snr_db}\\n\")\n",
    "    file.write(f\"function name: {func_name}\\n\")\n",
    "    file.write(f\"noise:{noise_name}\")"
   ]
  }
 ],
 "metadata": {
  "kernelspec": {
   "display_name": "Python 3",
   "language": "python",
   "name": "python3"
  },
  "language_info": {
   "codemirror_mode": {
    "name": "ipython",
    "version": 3
   },
   "file_extension": ".py",
   "mimetype": "text/x-python",
   "name": "python",
   "nbconvert_exporter": "python",
   "pygments_lexer": "ipython3",
   "version": "3.9.13"
  }
 },
 "nbformat": 4,
 "nbformat_minor": 2
}
