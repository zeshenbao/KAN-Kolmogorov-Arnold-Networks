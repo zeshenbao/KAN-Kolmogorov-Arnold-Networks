{
 "cells": [
  {
   "cell_type": "code",
   "execution_count": 204,
   "metadata": {},
   "outputs": [],
   "source": [
    "import DeepMIMOv3 as DeepMIMO\n",
    "import matplotlib.pyplot as plt\n",
    "import numpy as np\n",
    "from noise import *"
   ]
  },
  {
   "cell_type": "code",
   "execution_count": 205,
   "metadata": {},
   "outputs": [],
   "source": [
    "def create_dataset(scenario_name, \n",
    "                   n_bs_y, n_bs_x, n_ue_y, n_ue_x, \n",
    "                   n_paths, n_subcarriers):\n",
    "    # Load the default params, set constant params\n",
    "    params = DeepMIMO.default_params()\n",
    "    params['dataset_folder'] = r'.\\scenarios'\n",
    "    \n",
    "    # Set params\n",
    "    # Which scenario\n",
    "    params['scenario'] = scenario_name\n",
    "    # For the antennas\n",
    "    params['bs_antenna']['shape'] = np.array([n_bs_y, n_bs_x])\n",
    "    params['ue_antenna']['shape'] = np.array([n_ue_y, n_ue_x])\n",
    "    # For the path\n",
    "    params['num_paths'] = n_paths\n",
    "    params['OFDM']['subcarriers'] = n_subcarriers\n",
    "    \n",
    "    # Create dataset\n",
    "    dataset = DeepMIMO.generate_data(params)\n",
    "    \n",
    "    return dataset"
   ]
  },
  {
   "cell_type": "code",
   "execution_count": 206,
   "metadata": {},
   "outputs": [],
   "source": [
    "def generate_H(dataset):\n",
    "    i = 0  # Only one base station in scenario I2\n",
    "    j = 0  # Choose the first user\n",
    "    H = dataset[i]['user']['channel'][j]\n",
    "    H = H[:, :, 0]  # Choose the first subcarrier\n",
    "    return H\n",
    "\n",
    "def generate_H_abs(dataset):\n",
    "    H = generate_H(dataset)\n",
    "    H_abs = np.abs(H)\n",
    "\n",
    "    return H_abs"
   ]
  },
  {
   "cell_type": "code",
   "execution_count": 207,
   "metadata": {},
   "outputs": [],
   "source": [
    "# Noise functions\n",
    "def gaussian(H_true, std):\n",
    "    return np.random.normal(0, std, H_true.shape)\n",
    "\n",
    "def pink(H_true, amplitude):\n",
    "    return amplitude*pink_noise(H_true)"
   ]
  },
  {
   "cell_type": "code",
   "execution_count": 208,
   "metadata": {},
   "outputs": [],
   "source": [
    "# SNR\n",
    "def calculate_snr(y_true, y_noise): ### write own code later\n",
    "    # Calculate signal power\n",
    "    signal_power = np.mean(y_true ** 2)\n",
    "    # Calculate noise power\n",
    "    noise_power = np.mean((y_noise - y_true) ** 2)\n",
    "    # Calculate (linear) SNR\n",
    "    snr = signal_power / noise_power\n",
    "    # Convert to dB\n",
    "    snr_db = 10 * np.log10(snr)\n",
    "    return snr, snr_db"
   ]
  },
  {
   "cell_type": "code",
   "execution_count": 209,
   "metadata": {},
   "outputs": [],
   "source": [
    "def generate_noisy_H(H_true, noise):\n",
    "    # noise = np.random.normal(0, 10**(-5), H.shape)\n",
    "    std = 10**(-4)\n",
    "    if noise == gaussian:\n",
    "        H_added_noise = gaussian(H_true, std)\n",
    "    elif noise == 'pink':\n",
    "        H_added_noise = np.zeros(H_true.shape)\n",
    "\n",
    "    H_noise = H_true + H_added_noise\n",
    "\n",
    "    return H_noise"
   ]
  },
  {
   "cell_type": "code",
   "execution_count": 220,
   "metadata": {},
   "outputs": [],
   "source": [
    "def plot_heatmat(H):\n",
    "    plt.figure(figsize=(8, 6))\n",
    "    plt.imshow(H.T, cmap='viridis', aspect='auto', origin='lower', interpolation='nearest')\n",
    "    plt.colorbar()\n",
    "    plt.title('Channel Gain Magnitude of (RX, TX) Antenna Pairs')\n",
    "    plt.xlabel('RX antenna')\n",
    "    plt.ylabel('TX antenna')\n",
    "    # plt.xticks(ticks=np.arange(H.shape[0]), labels=np.arange(1, H.shape[0] + 1))\n",
    "    # plt.yticks(ticks=np.arange(H.shape[1]), labels=np.arange(1, H.shape[1] + 1))\n",
    "    plt.show()"
   ]
  },
  {
   "cell_type": "code",
   "execution_count": 221,
   "metadata": {},
   "outputs": [],
   "source": [
    "def data_generation(scenario_name, \n",
    "                    n_bs_y, n_bs_x, n_ue_y, n_ue_x,\n",
    "                    n_paths, n_subcarriers):\n",
    "    dataset = create_dataset(scenario_name, n_bs_y, n_bs_x, n_ue_y, n_ue_x, n_paths, n_subcarriers)\n",
    "    H_true = generate_H_abs(dataset)\n",
    "    # plot_environment(dataset)\n",
    "    return H_true"
   ]
  },
  {
   "cell_type": "markdown",
   "metadata": {},
   "source": [
    "Change the Environment Here"
   ]
  },
  {
   "cell_type": "code",
   "execution_count": 222,
   "metadata": {},
   "outputs": [],
   "source": [
    "scenario_name = 'I2_28B'\n",
    "n_bs_y, n_bs_x = 64, 1\n",
    "n_ue_y, n_ue_x = 64, 1\n",
    "n_paths = 5\n",
    "n_subcarriers = 2"
   ]
  },
  {
   "cell_type": "markdown",
   "metadata": {},
   "source": [
    "Change Parameters Here"
   ]
  },
  {
   "cell_type": "code",
   "execution_count": 223,
   "metadata": {},
   "outputs": [],
   "source": [
    "n_datapoints = 100  # number of (total) datapoints generated\n",
    "\n",
    "# Train/validation/test split parameters\n",
    "train_size = 0.7\n",
    "validation_size = 0.2\n",
    "test_size = 0.1\n",
    "\n",
    "noise = gaussian\n",
    "\n",
    "if noise == pink:\n",
    "    amplitude = 0.0001\n",
    "    std = None\n",
    "elif noise == gaussian:\n",
    "    amplitude = None\n",
    "    std = 10**(-6)"
   ]
  },
  {
   "cell_type": "markdown",
   "metadata": {},
   "source": [
    "Generate & Save Datasets"
   ]
  },
  {
   "cell_type": "code",
   "execution_count": 224,
   "metadata": {},
   "outputs": [
    {
     "name": "stdout",
     "output_type": "stream",
     "text": [
      "\n",
      "Basestation 1\n",
      "\n",
      "UE-BS Channels\n"
     ]
    },
    {
     "name": "stderr",
     "output_type": "stream",
     "text": [
      "Reading ray-tracing: 100%|██████████| 402/402 [00:00<00:00, 35421.74it/s]\n"
     ]
    },
    {
     "name": "stdout",
     "output_type": "stream",
     "text": [
      "ToA of some paths of 199 channels with an average total power of 53.50% exceed the useful OFDM symbol duration and are clipped.\n"
     ]
    },
    {
     "name": "stderr",
     "output_type": "stream",
     "text": [
      "Generating channels: 100%|██████████| 201/201 [00:00<00:00, 1815.31it/s]\n"
     ]
    },
    {
     "name": "stdout",
     "output_type": "stream",
     "text": [
      "\n",
      "BS-BS Channels\n"
     ]
    },
    {
     "name": "stderr",
     "output_type": "stream",
     "text": [
      "Reading ray-tracing: 100%|██████████| 1/1 [00:00<00:00, 995.80it/s]\n",
      "Generating channels: 100%|██████████| 1/1 [00:00<00:00, 459.35it/s]\n"
     ]
    },
    {
     "data": {
      "image/png": "[encoded data removed]",
      "text/plain": [
       "<Figure size 800x600 with 2 Axes>"
      ]
     },
     "metadata": {},
     "output_type": "display_data"
    }
   ],
   "source": [
    "H_true = data_generation(scenario_name,\n",
    "                        n_bs_y, n_bs_x, n_ue_y, n_ue_x,\n",
    "                        n_paths, n_subcarriers)\n",
    "\n",
    "if noise == pink:\n",
    "    H_added_noise = pink(H_true, amplitude)\n",
    "elif noise == gaussian:\n",
    "    H_added_noise = gaussian(H_true, std)\n",
    "\n",
    "H_noise = H_true + H_added_noise\n",
    "\n",
    "plot_heatmat(H_noise)"
   ]
  }
 ],
 "metadata": {
  "kernelspec": {
   "display_name": "Python 3",
   "language": "python",
   "name": "python3"
  },
  "language_info": {
   "codemirror_mode": {
    "name": "ipython",
    "version": 3
   },
   "file_extension": ".py",
   "mimetype": "text/x-python",
   "name": "python",
   "nbconvert_exporter": "python",
   "pygments_lexer": "ipython3",
   "version": "3.9.13"
  }
 },
 "nbformat": 4,
 "nbformat_minor": 2
}
