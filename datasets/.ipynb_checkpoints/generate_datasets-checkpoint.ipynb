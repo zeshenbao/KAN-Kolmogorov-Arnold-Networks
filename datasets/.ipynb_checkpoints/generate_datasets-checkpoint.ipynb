{
 "cells": [
  {
   "cell_type": "code",
   "execution_count": 113,
   "id": "06a2ceb1",
   "metadata": {},
   "outputs": [],
   "source": [
    "import numpy as np\n",
    "import pandas as pd\n",
    "from sklearn.model_selection import train_test_split"
   ]
  },
  {
   "cell_type": "code",
   "execution_count": 114,
   "id": "18938c50",
   "metadata": {},
   "outputs": [],
   "source": [
    "# function 1\n",
    "def f_1(x):\n",
    "    return x[0]**2+x[0]"
   ]
  },
  {
   "cell_type": "code",
   "execution_count": 115,
   "id": "1f2fc717",
   "metadata": {},
   "outputs": [],
   "source": [
    "# add function 2 here\n",
    "def f_2(x):\n",
    "    return np.sin(x[0])"
   ]
  },
  {
   "cell_type": "code",
   "execution_count": 116,
   "id": "3dfa8c0e",
   "metadata": {},
   "outputs": [],
   "source": [
    "def f_3(x):\n",
    "    return x[0]**2+x[1]**2"
   ]
  },
  {
   "cell_type": "code",
   "execution_count": 117,
   "id": "0d53a2d1",
   "metadata": {},
   "outputs": [],
   "source": [
    "def generate_x_values(lower_bound, upper_bound, n_variables, n_samples):\n",
    "    # create n x values\n",
    "    # xs = np.linspace(start_x, end_x, n)\n",
    "    xs = np.random.uniform(lower_bound, upper_bound, size=(n_samples, n_variables))\n",
    "    return xs"
   ]
  },
  {
   "cell_type": "code",
   "execution_count": 118,
   "id": "35d1c5c0",
   "metadata": {},
   "outputs": [],
   "source": [
    "def generate_y_values(xs, func, n_varables):\n",
    "    y = np.apply_along_axis(func, 1, xs)\n",
    "    return y"
   ]
  },
  {
   "cell_type": "code",
   "execution_count": 119,
   "id": "ab323f87",
   "metadata": {},
   "outputs": [],
   "source": [
    "def convert_to_df(X, y):\n",
    "    # create column names for input variables\n",
    "    column_names = [f'x{i+1}' for i in range(X.shape[1])]\n",
    "    \n",
    "    # create DataFrame from inputs\n",
    "    df = pd.DataFrame(X, columns=column_names)\n",
    "    \n",
    "    # add output column\n",
    "    df['y'] = y\n",
    "    \n",
    "    return df"
   ]
  },
  {
   "cell_type": "code",
   "execution_count": 120,
   "id": "c65406d9",
   "metadata": {},
   "outputs": [
    {
     "name": "stdout",
     "output_type": "stream",
     "text": [
      "(1000, 1)\n",
      "Write the function without spaces: sinx\n"
     ]
    }
   ],
   "source": [
    "## TASK: REMOVE NOICE\n",
    "\n",
    "# set amount of datapoints and varables\n",
    "n_samples = 1000\n",
    "n_varables = 1\n",
    "\n",
    "# set function\n",
    "func = f_2\n",
    "\n",
    "# set lower & upper bound for all input varables\n",
    "lower_bound, upper_bound = -10, 10\n",
    "\n",
    "# get x values\n",
    "X = generate_x_values(lower_bound, upper_bound, n_varables, n_samples)\n",
    "\n",
    "# get y given a function\n",
    "y = generate_y_values(X, func, n_varables)\n",
    "\n",
    "# devide to train and test datasets\n",
    "X_train, X_test, y_train, y_test = train_test_split(X, y, test_size=0.2, random_state=42)\n",
    "\n",
    "\n",
    "# set noise distribution\n",
    "n_train = len(X_train)\n",
    "lower_bound_noise, upper_bound_noise = -0.5, 0.5\n",
    "noise = np.random.uniform(lower_bound_noise, upper_bound_noise, n_train)\n",
    "\n",
    "# add noise to y-values in train data\n",
    "y_train_noisy = y_train + noise\n",
    "\n",
    "# convert to dataframes\n",
    "df_train = convert_to_df(X_train, y_train_noisy)\n",
    "df_test = convert_to_df(X_test, y_test)\n",
    "\n",
    "# Convert DataFrame to CSV\n",
    "function = input('Write the function without spaces: ')\n",
    "function = function.replace(\" \", \"\")\n",
    "df_train.to_csv(f'{function}_train.csv', index=False)\n",
    "df_test.to_csv(f'{function}_test.csv', index=False)"
   ]
  }
 ],
 "metadata": {
  "kernelspec": {
   "display_name": "Python 3 (ipykernel)",
   "language": "python",
   "name": "python3"
  },
  "language_info": {
   "codemirror_mode": {
    "name": "ipython",
    "version": 3
   },
   "file_extension": ".py",
   "mimetype": "text/x-python",
   "name": "python",
   "nbconvert_exporter": "python",
   "pygments_lexer": "ipython3",
   "version": "3.11.4"
  }
 },
 "nbformat": 4,
 "nbformat_minor": 5
}
