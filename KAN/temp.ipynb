{
 "cells": [
  {
   "cell_type": "code",
   "execution_count": 20,
   "metadata": {},
   "outputs": [
    {
     "name": "stdout",
     "output_type": "stream",
     "text": [
      "cpu\n"
     ]
    },
    {
     "data": {
      "text/plain": [
       "<module 'KAN' from '/home/anton/Documents/kth/KAN-Kolmogorov-Arnold-Networks/KAN/KAN.py'>"
      ]
     },
     "execution_count": 20,
     "metadata": {},
     "output_type": "execute_result"
    }
   ],
   "source": [
    "import KAN\n",
    "import importlib\n",
    "importlib.reload(KAN)"
   ]
  },
  {
   "cell_type": "code",
   "execution_count": 21,
   "metadata": {},
   "outputs": [
    {
     "name": "stdout",
     "output_type": "stream",
     "text": [
      "checkpoint directory created: ./model\n",
      "saving model version 0.0\n",
      "checkpoint directory created: ./model\n",
      "saving model version 0.0\n",
      "Fitting 5 folds for each of 10 candidates, totalling 50 fits\n",
      "checkpoint directory created: ./model\n",
      "saving model version 0.0\n",
      "checkpoint directory created: ./model\n",
      "saving model version 0.0\n",
      "checkpoint directory created: ./model\n",
      "saving model version 0.0\n",
      "checkpoint directory created: ./model\n",
      "saving model version 0.0\n",
      "checkpoint directory created: ./model\n",
      "saving model version 0.0\n",
      "checkpoint directory created: ./model\n",
      "saving model version 0.0\n",
      "checkpoint directory created: ./model\n",
      "saving model version 0.0\n",
      "checkpoint directory created: ./model\n",
      "saving model version 0.0\n",
      "checkpoint directory created: ./model\n",
      "saving model version 0.0\n",
      "checkpoint directory created: ./model\n",
      "saving model version 0.0\n",
      "checkpoint directory created: ./model\n",
      "saving model version 0.0\n",
      "checkpoint directory created: ./model\n",
      "saving model version 0.0\n",
      "checkpoint directory created: ./model\n",
      "saving model version 0.0\n",
      "checkpoint directory created: ./model\n",
      "saving model version 0.0\n",
      "checkpoint directory created: ./model\n",
      "saving model version 0.0\n",
      "checkpoint directory created: ./model\n",
      "saving model version 0.0\n",
      "cpu\n",
      "checkpoint directory created: ./model\n",
      "saving model version 0.0\n",
      "cpu\n"
     ]
    },
    {
     "name": "stderr",
     "output_type": "stream",
     "text": [
      "description:   0%|                                                           | 0/20 [00:00<?, ?it/s]"
     ]
    },
    {
     "name": "stdout",
     "output_type": "stream",
     "text": [
      "checkpoint directory created: ./model\n",
      "saving model version 0.0\n",
      "cpu\n",
      "checkpoint directory created: ./model\n",
      "saving model version 0.0\n"
     ]
    },
    {
     "name": "stderr",
     "output_type": "stream",
     "text": [
      "description:   0%|                                                           | 0/20 [00:00<?, ?it/s]"
     ]
    },
    {
     "name": "stdout",
     "output_type": "stream",
     "text": [
      "cpu\n",
      "checkpoint directory created: ./model\n",
      "saving model version 0.0\n",
      "cpu\n",
      "checkpoint directory created: ./model\n",
      "saving model version 0.0\n"
     ]
    },
    {
     "name": "stderr",
     "output_type": "stream",
     "text": [
      "description:   0%|                                                           | 0/20 [00:00<?, ?it/s]"
     ]
    },
    {
     "name": "stdout",
     "output_type": "stream",
     "text": [
      "cpu\n",
      "checkpoint directory created: ./model\n",
      "saving model version 0.0\n",
      "cpu\n",
      "checkpoint directory created: ./model\n",
      "saving model version 0.0\n"
     ]
    },
    {
     "name": "stderr",
     "output_type": "stream",
     "text": [
      "description:   0%|                                                           | 0/20 [00:00<?, ?it/s]"
     ]
    },
    {
     "name": "stdout",
     "output_type": "stream",
     "text": [
      "cpu\n",
      "checkpoint directory created: ./model\n",
      "saving model version 0.0\n"
     ]
    },
    {
     "name": "stderr",
     "output_type": "stream",
     "text": [
      "| train_loss: 6.91e-01 | test_loss: 6.95e-01 | reg: 4.54e+00 | : 100%|█| 20/20 [00:22<00:00,  1.11s/\n",
      "| train_loss: 6.92e-01 | test_loss: 6.95e-01 | reg: 7.61e+00 | :  90%|▉| 18/20 [00:21<00:02,  1.14s/"
     ]
    },
    {
     "name": "stdout",
     "output_type": "stream",
     "text": [
      "saving model version 0.1\n",
      "[CV] END kan__datasetPath=../datasets/uniform_sin(x)_241114/train_data.csv, kan__grid=5, kan__k=3, kan__lamb=0.2, kan__lr=0.001, kan__seed=42, kan__width=[1, 3, 3, 1]; total time=  22.3s\n",
      "checkpoint directory created: ./model\n",
      "saving model version 0.0\n"
     ]
    },
    {
     "name": "stderr",
     "output_type": "stream",
     "text": [
      "| train_loss: 7.01e-01 | test_loss: 6.95e-01 | reg: 7.51e+00 | :  85%|▊| 17/20 [00:21<00:03,  1.20s/"
     ]
    },
    {
     "name": "stdout",
     "output_type": "stream",
     "text": [
      "checkpoint directory created: ./model\n",
      "saving model version 0.0\n",
      "checkpoint directory created: ./model\n",
      "saving model version 0.0\n",
      "checkpoint directory created: ./model\n",
      "saving model version 0.0\n",
      "saving model version 0.1\n",
      "[CV] END kan__datasetPath=../datasets/uniform_sin(x)_241114/train_data.csv, kan__grid=5, kan__k=3, kan__lamb=0.2, kan__lr=0.001, kan__seed=42, kan__width=[1, 3, 3, 1]; total time=  23.1s\n"
     ]
    },
    {
     "name": "stderr",
     "output_type": "stream",
     "text": [
      "| train_loss: 6.92e-01 | test_loss: 6.95e-01 | reg: 4.10e+00 | : 100%|█| 20/20 [00:22<00:00,  1.15s/\n",
      "| train_loss: 7.01e-01 | test_loss: 6.95e-01 | reg: 4.34e+00 | :  95%|▉| 19/20 [00:22<00:01,  1.10s/"
     ]
    },
    {
     "name": "stdout",
     "output_type": "stream",
     "text": [
      "checkpoint directory created: ./model\n",
      "saving model version 0.0\n",
      "checkpoint directory created: ./model\n",
      "saving model version 0.0\n",
      "checkpoint directory created: ./model\n",
      "saving model version 0.0\n",
      "checkpoint directory created: ./model\n",
      "saving model version 0.0\n",
      "checkpoint directory created: ./model\n",
      "saving model version 0.0\n"
     ]
    },
    {
     "name": "stderr",
     "output_type": "stream",
     "text": [
      "| train_loss: 6.92e-01 | test_loss: 6.95e-01 | reg: 7.58e+00 | :  95%|▉| 19/20 [00:22<00:01,  1.11s/"
     ]
    },
    {
     "name": "stdout",
     "output_type": "stream",
     "text": [
      "checkpoint directory created: ./model\n",
      "saving model version 0.0\n"
     ]
    },
    {
     "name": "stderr",
     "output_type": "stream",
     "text": [
      "| train_loss: 6.91e-01 | test_loss: 6.95e-01 | reg: 4.41e+00 | : 100%|█| 20/20 [00:23<00:00,  1.15s/\n",
      "| train_loss: 6.99e-01 | test_loss: 6.95e-01 | reg: 4.24e+00 | : 100%|█| 20/20 [00:23<00:00,  1.17s/\n"
     ]
    },
    {
     "name": "stdout",
     "output_type": "stream",
     "text": [
      "saving model version 0.1\n",
      "[CV] END kan__datasetPath=../datasets/uniform_sin(x)_241114/train_data.csv, kan__grid=5, kan__k=3, kan__lamb=0.2, kan__lr=0.001, kan__seed=42, kan__width=[1, 3, 3, 1]; total time=  23.1s\n",
      "saving model version 0.1\n",
      "[CV] END kan__datasetPath=../datasets/uniform_sin(x)_241114/train_data.csv, kan__grid=5, kan__k=3, kan__lamb=0.2, kan__lr=0.001, kan__seed=42, kan__width=[1, 3, 3, 1]; total time=  23.5s\n"
     ]
    },
    {
     "name": "stderr",
     "output_type": "stream",
     "text": [
      "| train_loss: 7.01e-01 | test_loss: 6.95e-01 | reg: 4.26e+00 | : 100%|█| 20/20 [00:23<00:00,  1.19s/\n",
      "description:   0%|                                                           | 0/20 [00:00<?, ?it/s]"
     ]
    },
    {
     "name": "stdout",
     "output_type": "stream",
     "text": [
      "checkpoint directory created: ./model\n",
      "saving model version 0.0\n",
      "saving model version 0.1\n",
      "checkpoint directory created: ./model\n",
      "saving model version 0.0\n",
      "[CV] END kan__datasetPath=../datasets/uniform_sin(x)_241114/train_data.csv, kan__grid=5, kan__k=3, kan__lamb=0.2, kan__lr=0.001, kan__seed=42, kan__width=[1, 3, 3, 1]; total time=  23.8s\n"
     ]
    },
    {
     "name": "stderr",
     "output_type": "stream",
     "text": [
      "| train_loss: 6.92e-01 | test_loss: 6.95e-01 | reg: 7.54e+00 | : 100%|█| 20/20 [00:23<00:00,  1.17s/\n",
      "| train_loss: 6.84e-01 | test_loss: 6.90e-01 | reg: 1.21e+01 | :   5%| | 1/20 [00:02<00:39,  2.07s/i"
     ]
    },
    {
     "name": "stdout",
     "output_type": "stream",
     "text": [
      "saving model version 0.1\n",
      "checkpoint directory created: ./model\n",
      "saving model version 0.0\n",
      "[CV] END kan__datasetPath=../datasets/uniform_sin(x)_241114/train_data.csv, kan__grid=5, kan__k=3, kan__lamb=0.2, kan__lr=0.01, kan__seed=42, kan__width=[1, 5, 5, 1]; total time=  23.5s\n",
      "checkpoint directory created: ./model\n",
      "saving model version 0.0\n"
     ]
    },
    {
     "name": "stderr",
     "output_type": "stream",
     "text": [
      "| train_loss: 6.91e-01 | test_loss: 6.95e-01 | reg: 7.57e+00 | : 100%|█| 20/20 [00:24<00:00,  1.25s/\n"
     ]
    },
    {
     "name": "stdout",
     "output_type": "stream",
     "text": [
      "saving model version 0.1\n",
      "[CV] END kan__datasetPath=../datasets/uniform_sin(x)_241114/train_data.csv, kan__grid=5, kan__k=3, kan__lamb=0.2, kan__lr=0.01, kan__seed=42, kan__width=[1, 5, 5, 1]; total time=  25.0s\n",
      "checkpoint directory created: ./model\n",
      "saving model version 0.0\n"
     ]
    },
    {
     "name": "stderr",
     "output_type": "stream",
     "text": [
      "| train_loss: 7.01e-01 | test_loss: 6.95e-01 | reg: 7.30e+00 | : 100%|█| 20/20 [00:25<00:00,  1.26s/\n"
     ]
    },
    {
     "name": "stdout",
     "output_type": "stream",
     "text": [
      "saving model version 0.1\n",
      "[CV] END kan__datasetPath=../datasets/uniform_sin(x)_241114/train_data.csv, kan__grid=5, kan__k=3, kan__lamb=0.2, kan__lr=0.01, kan__seed=42, kan__width=[1, 5, 5, 1]; total time=  25.3s\n"
     ]
    },
    {
     "name": "stderr",
     "output_type": "stream",
     "text": [
      "description:   0%|                                                           | 0/20 [00:00<?, ?it/s]"
     ]
    },
    {
     "name": "stdout",
     "output_type": "stream",
     "text": [
      "checkpoint directory created: ./model\n",
      "saving model version 0.0\n"
     ]
    },
    {
     "name": "stderr",
     "output_type": "stream",
     "text": [
      "| train_loss: 4.15e-01 | test_loss: 4.22e-01 | reg: 1.60e+01 | : 100%|█| 20/20 [00:16<00:00,  1.24it\n",
      "description:   0%|                                                           | 0/20 [00:00<?, ?it/s]"
     ]
    },
    {
     "name": "stdout",
     "output_type": "stream",
     "text": [
      "saving model version 0.1\n",
      "[CV] END kan__datasetPath=../datasets/uniform_sin(x)_241114/train_data.csv, kan__grid=5, kan__k=3, kan__lamb=0.0, kan__lr=0.01, kan__seed=42, kan__width=[1, 3, 3, 1]; total time=  16.2s\n",
      "checkpoint directory created: ./model\n",
      "saving model version 0.0\n",
      "checkpoint directory created: ./model\n",
      "saving model version 0.0\n"
     ]
    },
    {
     "name": "stderr",
     "output_type": "stream",
     "text": [
      "| train_loss: 4.17e-01 | test_loss: 4.26e-01 | reg: 0.00e+00 | :  90%|▉| 18/20 [00:16<00:01,  1.12it"
     ]
    },
    {
     "name": "stdout",
     "output_type": "stream",
     "text": [
      "checkpoint directory created: ./model\n",
      "saving model version 0.0\n",
      "checkpoint directory created: ./model\n",
      "saving model version 0.0\n",
      "checkpoint directory created: ./model\n",
      "saving model version 0.0\n",
      "checkpoint directory created: ./model\n",
      "saving model version 0.0\n",
      "checkpoint directory created: ./model\n",
      "saving model version 0.0\n"
     ]
    },
    {
     "name": "stderr",
     "output_type": "stream",
     "text": [
      "| train_loss: 6.90e-01 | test_loss: 6.94e-01 | reg: 7.92e+00 | :  65%|▋| 13/20 [00:18<00:10,  1.52s/"
     ]
    },
    {
     "name": "stdout",
     "output_type": "stream",
     "text": [
      "checkpoint directory created: ./model\n",
      "saving model version 0.0\n",
      "checkpoint directory created: ./model\n",
      "saving model version 0.0\n"
     ]
    },
    {
     "name": "stderr",
     "output_type": "stream",
     "text": [
      "| train_loss: 4.17e-01 | test_loss: 4.26e-01 | reg: 1.66e+01 | : 100%|█| 20/20 [00:18<00:00,  1.09it\n",
      "| train_loss: 6.99e-01 | test_loss: 6.95e-01 | reg: 7.85e+00 | :  80%|▊| 16/20 [00:19<00:04,  1.16s/"
     ]
    },
    {
     "name": "stdout",
     "output_type": "stream",
     "text": [
      "saving model version 0.1\n",
      "[CV] END kan__datasetPath=../datasets/uniform_sin(x)_241114/train_data.csv, kan__grid=5, kan__k=3, kan__lamb=0.0, kan__lr=0.01, kan__seed=42, kan__width=[1, 3, 3, 1]; total time=  18.4s\n",
      "checkpoint directory created: ./model\n",
      "saving model version 0.0\n"
     ]
    },
    {
     "name": "stderr",
     "output_type": "stream",
     "text": [
      "| train_loss: 4.17e-01 | test_loss: 4.27e-01 | reg: 1.62e+01 | : 100%|█| 20/20 [00:18<00:00,  1.09it\n",
      "| train_loss: 4.20e-01 | test_loss: 4.22e-01 | reg: 1.63e+01 | : 100%|█| 20/20 [00:18<00:00,  1.06it\n",
      "description:   0%|                                                           | 0/20 [00:00<?, ?it/s]"
     ]
    },
    {
     "name": "stdout",
     "output_type": "stream",
     "text": [
      "saving model version 0.1\n",
      "[CV] END kan__datasetPath=../datasets/uniform_sin(x)_241114/train_data.csv, kan__grid=5, kan__k=3, kan__lamb=0.0, kan__lr=0.01, kan__seed=42, kan__width=[1, 3, 3, 1]; total time=  18.5s\n",
      "checkpoint directory created: ./model\n",
      "saving model version 0.0\n",
      "saving model version 0.1\n",
      "[CV] END kan__datasetPath=../datasets/uniform_sin(x)_241114/train_data.csv, kan__grid=5, kan__k=3, kan__lamb=0.0, kan__lr=0.01, kan__seed=42, kan__width=[1, 3, 3, 1]; total time=  19.0s\n",
      "checkpoint directory created: ./model\n",
      "saving model version 0.0\n"
     ]
    },
    {
     "name": "stderr",
     "output_type": "stream",
     "text": [
      "| train_loss: 4.12e-01 | test_loss: 4.21e-01 | reg: 1.77e+01 | : 100%|█| 20/20 [00:18<00:00,  1.09it\n"
     ]
    },
    {
     "name": "stdout",
     "output_type": "stream",
     "text": [
      "saving model version 0.1\n",
      "[CV] END kan__datasetPath=../datasets/uniform_sin(x)_241114/train_data.csv, kan__grid=5, kan__k=3, kan__lamb=0.0, kan__lr=0.01, kan__seed=42, kan__width=[1, 3, 3, 1]; total time=  18.5s\n",
      "checkpoint directory created: ./model\n",
      "saving model version 0.0\n"
     ]
    },
    {
     "name": "stderr",
     "output_type": "stream",
     "text": [
      "| train_loss: 6.99e-01 | test_loss: 6.95e-01 | reg: 7.63e+00 | : 100%|█| 20/20 [00:24<00:00,  1.22s/\n",
      "| train_loss: 6.90e-01 | test_loss: 6.95e-01 | reg: 7.57e+00 | :  90%|▉| 18/20 [00:25<00:02,  1.25s/"
     ]
    },
    {
     "name": "stdout",
     "output_type": "stream",
     "text": [
      "saving model version 0.1\n",
      "[CV] END kan__datasetPath=../datasets/uniform_sin(x)_241114/train_data.csv, kan__grid=5, kan__k=3, kan__lamb=0.2, kan__lr=0.01, kan__seed=42, kan__width=[1, 5, 5, 1]; total time=  24.5s\n",
      "checkpoint directory created: ./model\n",
      "saving model version 0.0\n"
     ]
    },
    {
     "name": "stderr",
     "output_type": "stream",
     "text": [
      "| train_loss: 6.90e-01 | test_loss: 6.95e-01 | reg: 7.49e+00 | : 100%|█| 20/20 [00:27<00:00,  1.38s/\n"
     ]
    },
    {
     "name": "stdout",
     "output_type": "stream",
     "text": [
      "saving model version 0.1\n",
      "[CV] END kan__datasetPath=../datasets/uniform_sin(x)_241114/train_data.csv, kan__grid=5, kan__k=3, kan__lamb=0.2, kan__lr=0.01, kan__seed=42, kan__width=[1, 5, 5, 1]; total time=  27.6s\n",
      "checkpoint directory created: ./model\n",
      "saving model version 0.0\n"
     ]
    },
    {
     "name": "stderr",
     "output_type": "stream",
     "text": [
      "| train_loss: 6.91e-01 | test_loss: 6.95e-01 | reg: 3.48e+00 | : 100%|█| 20/20 [00:24<00:00,  1.21s/\n",
      "| train_loss: 7.01e-01 | test_loss: 6.95e-01 | reg: 4.47e+00 | :  35%|▎| 7/20 [00:07<00:15,  1.21s/i"
     ]
    },
    {
     "name": "stdout",
     "output_type": "stream",
     "text": [
      "saving model version 0.1\n",
      "[CV] END kan__datasetPath=../datasets/uniform_sin(x)_241114/train_data.csv, kan__grid=5, kan__k=3, kan__lamb=0.2, kan__lr=0.01, kan__seed=42, kan__width=[1, 3, 3, 1]; total time=  24.2s\n",
      "checkpoint directory created: ./model\n",
      "saving model version 0.0\n"
     ]
    },
    {
     "name": "stderr",
     "output_type": "stream",
     "text": [
      "| train_loss: 6.92e-01 | test_loss: 6.95e-01 | reg: 3.53e+00 | : 100%|█| 20/20 [00:22<00:00,  1.15s/\n",
      "description:   0%|                                                           | 0/20 [00:00<?, ?it/s]"
     ]
    },
    {
     "name": "stdout",
     "output_type": "stream",
     "text": [
      "saving model version 0.1\n",
      "[CV] END kan__datasetPath=../datasets/uniform_sin(x)_241114/train_data.csv, kan__grid=5, kan__k=3, kan__lamb=0.2, kan__lr=0.01, kan__seed=42, kan__width=[1, 3, 3, 1]; total time=  23.0s\n",
      "checkpoint directory created: ./model\n",
      "saving model version 0.0\n",
      "checkpoint directory created: ./model\n",
      "saving model version 0.0\n"
     ]
    },
    {
     "name": "stderr",
     "output_type": "stream",
     "text": [
      "| train_loss: 6.90e-01 | test_loss: 6.95e-01 | reg: 3.81e+00 | :  90%|▉| 18/20 [00:20<00:02,  1.11s/"
     ]
    },
    {
     "name": "stdout",
     "output_type": "stream",
     "text": [
      "checkpoint directory created: ./model\n",
      "saving model version 0.0\n",
      "checkpoint directory created: ./model\n",
      "saving model version 0.0\n",
      "checkpoint directory created: ./model\n",
      "saving model version 0.0\n",
      "checkpoint directory created: ./model\n",
      "saving model version 0.0\n"
     ]
    },
    {
     "name": "stderr",
     "output_type": "stream",
     "text": [
      "| train_loss: 7.01e-01 | test_loss: 6.95e-01 | reg: 7.90e+00 | :  55%|▌| 11/20 [00:14<00:11,  1.25s/"
     ]
    },
    {
     "name": "stdout",
     "output_type": "stream",
     "text": [
      "checkpoint directory created: ./model\n",
      "saving model version 0.0\n",
      "checkpoint directory created: ./model\n",
      "saving model version 0.0\n"
     ]
    },
    {
     "name": "stderr",
     "output_type": "stream",
     "text": [
      "| train_loss: 6.91e-01 | test_loss: 6.95e-01 | reg: 7.40e+00 | :  85%|▊| 17/20 [00:21<00:03,  1.20s/"
     ]
    },
    {
     "name": "stdout",
     "output_type": "stream",
     "text": [
      "checkpoint directory created: ./model\n",
      "saving model version 0.0\n"
     ]
    },
    {
     "name": "stderr",
     "output_type": "stream",
     "text": [
      "| train_loss: 6.90e-01 | test_loss: 6.95e-01 | reg: 3.61e+00 | : 100%|█| 20/20 [00:22<00:00,  1.14s/\n"
     ]
    },
    {
     "name": "stdout",
     "output_type": "stream",
     "text": [
      "saving model version 0.1\n",
      "[CV] END kan__datasetPath=../datasets/uniform_sin(x)_241114/train_data.csv, kan__grid=5, kan__k=3, kan__lamb=0.2, kan__lr=0.01, kan__seed=42, kan__width=[1, 3, 3, 1]; total time=  22.8s\n",
      "checkpoint directory created: ./model\n",
      "saving model version 0.0\n"
     ]
    },
    {
     "name": "stderr",
     "output_type": "stream",
     "text": [
      "| train_loss: 7.01e-01 | test_loss: 6.95e-01 | reg: 3.42e+00 | : 100%|█| 20/20 [00:23<00:00,  1.19s/\n",
      "description:   0%|                                                           | 0/20 [00:00<?, ?it/s]"
     ]
    },
    {
     "name": "stdout",
     "output_type": "stream",
     "text": [
      "saving model version 0.1\n",
      "[CV] END kan__datasetPath=../datasets/uniform_sin(x)_241114/train_data.csv, kan__grid=5, kan__k=3, kan__lamb=0.2, kan__lr=0.01, kan__seed=42, kan__width=[1, 3, 3, 1]; total time=  23.9s\n",
      "checkpoint directory created: ./model\n",
      "saving model version 0.0\n"
     ]
    },
    {
     "name": "stderr",
     "output_type": "stream",
     "text": [
      "| train_loss: 6.99e-01 | test_loss: 6.95e-01 | reg: 3.52e+00 | : 100%|█| 20/20 [00:23<00:00,  1.19s/\n"
     ]
    },
    {
     "name": "stdout",
     "output_type": "stream",
     "text": [
      "saving model version 0.1\n",
      "[CV] END kan__datasetPath=../datasets/uniform_sin(x)_241114/train_data.csv, kan__grid=5, kan__k=3, kan__lamb=0.2, kan__lr=0.01, kan__seed=42, kan__width=[1, 3, 3, 1]; total time=  23.9s\n",
      "checkpoint directory created: ./model\n",
      "saving model version 0.0\n"
     ]
    },
    {
     "name": "stderr",
     "output_type": "stream",
     "text": [
      "| train_loss: 6.91e-01 | test_loss: 6.95e-01 | reg: 7.14e+00 | : 100%|█| 20/20 [00:24<00:00,  1.23s/\n"
     ]
    },
    {
     "name": "stdout",
     "output_type": "stream",
     "text": [
      "saving model version 0.1\n",
      "[CV] END kan__datasetPath=../datasets/uniform_sin(x)_241114/train_data.csv, kan__grid=5, kan__k=3, kan__lamb=0.1, kan__lr=0.01, kan__seed=42, kan__width=[1, 5, 5, 1]; total time=  24.6s\n",
      "checkpoint directory created: ./model\n",
      "saving model version 0.0\n"
     ]
    },
    {
     "name": "stderr",
     "output_type": "stream",
     "text": [
      "| train_loss: 6.92e-01 | test_loss: 6.95e-01 | reg: 7.58e+00 | : 100%|█| 20/20 [00:26<00:00,  1.33s/\n"
     ]
    },
    {
     "name": "stdout",
     "output_type": "stream",
     "text": [
      "saving model version 0.1\n",
      "[CV] END kan__datasetPath=../datasets/uniform_sin(x)_241114/train_data.csv, kan__grid=5, kan__k=3, kan__lamb=0.1, kan__lr=0.01, kan__seed=42, kan__width=[1, 5, 5, 1]; total time=  26.6s\n",
      "checkpoint directory created: ./model\n",
      "saving model version 0.0\n"
     ]
    },
    {
     "name": "stderr",
     "output_type": "stream",
     "text": [
      "| train_loss: 7.00e-01 | test_loss: 6.94e-01 | reg: 7.58e+00 | : 100%|█| 20/20 [00:26<00:00,  1.33s/\n",
      "description:   0%|                                                           | 0/20 [00:00<?, ?it/s]"
     ]
    },
    {
     "name": "stdout",
     "output_type": "stream",
     "text": [
      "saving model version 0.1\n",
      "[CV] END kan__datasetPath=../datasets/uniform_sin(x)_241114/train_data.csv, kan__grid=5, kan__k=3, kan__lamb=0.1, kan__lr=0.01, kan__seed=42, kan__width=[1, 5, 5, 1]; total time=  26.7s\n",
      "checkpoint directory created: ./model\n",
      "saving model version 0.0\n"
     ]
    },
    {
     "name": "stderr",
     "output_type": "stream",
     "text": [
      "| train_loss: 6.89e-01 | test_loss: 6.95e-01 | reg: 7.16e+00 | : 100%|█| 20/20 [00:26<00:00,  1.33s/\n",
      "description:   0%|                                                           | 0/20 [00:00<?, ?it/s]"
     ]
    },
    {
     "name": "stdout",
     "output_type": "stream",
     "text": [
      "saving model version 0.1\n",
      "[CV] END kan__datasetPath=../datasets/uniform_sin(x)_241114/train_data.csv, kan__grid=5, kan__k=3, kan__lamb=0.1, kan__lr=0.01, kan__seed=42, kan__width=[1, 5, 5, 1]; total time=  26.6s\n",
      "checkpoint directory created: ./model\n",
      "saving model version 0.0\n"
     ]
    },
    {
     "name": "stderr",
     "output_type": "stream",
     "text": [
      "| train_loss: 4.16e-01 | test_loss: 4.27e-01 | reg: 1.59e+01 | : 100%|█| 20/20 [00:16<00:00,  1.23it\n",
      "| train_loss: 4.16e-01 | test_loss: 4.23e-01 | reg: 0.00e+00 | :  60%|▌| 12/20 [00:10<00:06,  1.31it"
     ]
    },
    {
     "name": "stdout",
     "output_type": "stream",
     "text": [
      "saving model version 0.1\n",
      "[CV] END kan__datasetPath=../datasets/uniform_sin(x)_241114/train_data.csv, kan__grid=5, kan__k=3, kan__lamb=0.0, kan__lr=0.001, kan__seed=42, kan__width=[1, 3, 3, 1]; total time=  16.3s\n",
      "checkpoint directory created: ./model\n",
      "saving model version 0.0\n",
      "checkpoint directory created: ./model\n",
      "saving model version 0.0\n"
     ]
    },
    {
     "name": "stderr",
     "output_type": "stream",
     "text": [
      "| train_loss: 4.19e-01 | test_loss: 4.22e-01 | reg: 1.68e+01 | : 100%|█| 20/20 [00:18<00:00,  1.08it\n",
      "description:   0%|                                                           | 0/20 [00:00<?, ?it/s]"
     ]
    },
    {
     "name": "stdout",
     "output_type": "stream",
     "text": [
      "saving model version 0.1\n",
      "[CV] END kan__datasetPath=../datasets/uniform_sin(x)_241114/train_data.csv, kan__grid=5, kan__k=3, kan__lamb=0.0, kan__lr=0.001, kan__seed=42, kan__width=[1, 3, 3, 1]; total time=  18.6s\n",
      "checkpoint directory created: ./model\n",
      "saving model version 0.0\n",
      "checkpoint directory created: ./model\n",
      "saving model version 0.0\n",
      "checkpoint directory created: ./model\n",
      "saving model version 0.0\n",
      "checkpoint directory created: ./model\n",
      "saving model version 0.0\n"
     ]
    },
    {
     "name": "stderr",
     "output_type": "stream",
     "text": [
      "| train_loss: 4.23e-01 | test_loss: 4.23e-01 | reg: 0.00e+00 | :  95%|▉| 19/20 [00:18<00:01,  1.04s/"
     ]
    },
    {
     "name": "stdout",
     "output_type": "stream",
     "text": [
      "checkpoint directory created: ./model\n",
      "saving model version 0.0\n"
     ]
    },
    {
     "name": "stderr",
     "output_type": "stream",
     "text": [
      "| train_loss: 4.15e-01 | test_loss: 4.22e-01 | reg: 0.00e+00 | :  65%|▋| 13/20 [00:10<00:05,  1.32it"
     ]
    },
    {
     "name": "stdout",
     "output_type": "stream",
     "text": [
      "checkpoint directory created: ./model\n",
      "saving model version 0.0\n",
      "checkpoint directory created: ./model\n",
      "saving model version 0.0\n"
     ]
    },
    {
     "name": "stderr",
     "output_type": "stream",
     "text": [
      "| train_loss: 6.99e-01 | test_loss: 6.95e-01 | reg: 7.56e+00 | :  75%|▊| 15/20 [00:21<00:07,  1.53s/"
     ]
    },
    {
     "name": "stdout",
     "output_type": "stream",
     "text": [
      "checkpoint directory created: ./model\n",
      "saving model version 0.0\n"
     ]
    },
    {
     "name": "stderr",
     "output_type": "stream",
     "text": [
      "| train_loss: 4.18e-01 | test_loss: 4.25e-01 | reg: 1.66e+01 | : 100%|█| 20/20 [00:19<00:00,  1.04it\n",
      "description:   0%|                                                           | 0/20 [00:00<?, ?it/s]"
     ]
    },
    {
     "name": "stdout",
     "output_type": "stream",
     "text": [
      "saving model version 0.1\n",
      "[CV] END kan__datasetPath=../datasets/uniform_sin(x)_241114/train_data.csv, kan__grid=5, kan__k=3, kan__lamb=0.0, kan__lr=0.001, kan__seed=42, kan__width=[1, 3, 3, 1]; total time=  19.3s\n",
      "checkpoint directory created: ./model\n",
      "saving model version 0.0\n"
     ]
    },
    {
     "name": "stderr",
     "output_type": "stream",
     "text": [
      "| train_loss: 4.23e-01 | test_loss: 4.23e-01 | reg: 1.60e+01 | : 100%|█| 20/20 [00:20<00:00,  1.01s/\n",
      "| train_loss: 4.21e-01 | test_loss: 4.22e-01 | reg: 0.00e+00 | :  50%|▌| 10/20 [00:09<00:10,  1.08s/"
     ]
    },
    {
     "name": "stdout",
     "output_type": "stream",
     "text": [
      "saving model version 0.1\n",
      "[CV] END kan__datasetPath=../datasets/uniform_sin(x)_241114/train_data.csv, kan__grid=5, kan__k=3, kan__lamb=0.0, kan__lr=0.001, kan__seed=42, kan__width=[1, 3, 3, 1]; total time=  20.3s\n",
      "checkpoint directory created: ./model\n",
      "saving model version 0.0\n"
     ]
    },
    {
     "name": "stderr",
     "output_type": "stream",
     "text": [
      "| train_loss: 4.14e-01 | test_loss: 4.22e-01 | reg: 1.57e+01 | : 100%|█| 20/20 [00:17<00:00,  1.15it\n",
      "description:   0%|                                                           | 0/20 [00:00<?, ?it/s]"
     ]
    },
    {
     "name": "stdout",
     "output_type": "stream",
     "text": [
      "saving model version 0.1\n",
      "[CV] END kan__datasetPath=../datasets/uniform_sin(x)_241114/train_data.csv, kan__grid=5, kan__k=3, kan__lamb=0.0, kan__lr=0.001, kan__seed=42, kan__width=[1, 3, 3, 1]; total time=  17.5s\n",
      "checkpoint directory created: ./model\n",
      "saving model version 0.0\n"
     ]
    },
    {
     "name": "stderr",
     "output_type": "stream",
     "text": [
      "| train_loss: 6.99e-01 | test_loss: 6.95e-01 | reg: 7.25e+00 | : 100%|█| 20/20 [00:29<00:00,  1.48s/\n",
      "| train_loss: 6.85e-01 | test_loss: 6.87e-01 | reg: 1.26e+01 | :   5%| | 1/20 [00:01<00:27,  1.46s/i"
     ]
    },
    {
     "name": "stdout",
     "output_type": "stream",
     "text": [
      "saving model version 0.1\n",
      "[CV] END kan__datasetPath=../datasets/uniform_sin(x)_241114/train_data.csv, kan__grid=5, kan__k=3, kan__lamb=0.1, kan__lr=0.01, kan__seed=42, kan__width=[1, 5, 5, 1]; total time=  29.7s\n",
      "checkpoint directory created: ./model\n",
      "saving model version 0.0\n"
     ]
    },
    {
     "name": "stderr",
     "output_type": "stream",
     "text": [
      "| train_loss: 4.14e-01 | test_loss: 4.25e-01 | reg: 2.21e+01 | : 100%|█| 20/20 [00:20<00:00,  1.00s/\n",
      "| train_loss: 4.17e-01 | test_loss: 4.21e-01 | reg: 2.30e+01 | : 100%|█| 20/20 [00:19<00:00,  1.03it\n",
      "description:   0%|                                                           | 0/20 [00:00<?, ?it/s]"
     ]
    },
    {
     "name": "stdout",
     "output_type": "stream",
     "text": [
      "saving model version 0.1\n",
      "[CV] END kan__datasetPath=../datasets/uniform_sin(x)_241114/train_data.csv, kan__grid=5, kan__k=3, kan__lamb=0.0, kan__lr=0.01, kan__seed=42, kan__width=[1, 5, 5, 1]; total time=  20.1s\n",
      "saving model version 0.1\n",
      "[CV] END kan__datasetPath=../datasets/uniform_sin(x)_241114/train_data.csv, kan__grid=5, kan__k=3, kan__lamb=0.0, kan__lr=0.01, kan__seed=42, kan__width=[1, 5, 5, 1]; total time=  19.5s\n",
      "checkpoint directory created: ./model\n",
      "saving model version 0.0\n",
      "checkpoint directory created: ./model\n",
      "saving model version 0.0\n"
     ]
    },
    {
     "name": "stderr",
     "output_type": "stream",
     "text": [
      "| train_loss: 4.17e-01 | test_loss: 4.25e-01 | reg: 2.20e+01 | : 100%|█| 20/20 [00:19<00:00,  1.02it\n"
     ]
    },
    {
     "name": "stdout",
     "output_type": "stream",
     "text": [
      "saving model version 0.1\n",
      "[CV] END kan__datasetPath=../datasets/uniform_sin(x)_241114/train_data.csv, kan__grid=5, kan__k=3, kan__lamb=0.0, kan__lr=0.01, kan__seed=42, kan__width=[1, 5, 5, 1]; total time=  19.6s\n",
      "checkpoint directory created: ./model\n",
      "saving model version 0.0\n",
      "checkpoint directory created: ./model\n",
      "saving model version 0.0\n"
     ]
    },
    {
     "name": "stderr",
     "output_type": "stream",
     "text": [
      "| train_loss: 6.99e-01 | test_loss: 6.95e-01 | reg: 9.34e+00 | :  30%|▎| 6/20 [00:07<00:17,  1.26s/i"
     ]
    },
    {
     "name": "stdout",
     "output_type": "stream",
     "text": [
      "checkpoint directory created: ./model\n",
      "saving model version 0.0\n"
     ]
    },
    {
     "name": "stderr",
     "output_type": "stream",
     "text": [
      "| train_loss: 4.17e-01 | test_loss: 4.26e-01 | reg: 2.22e+01 | : 100%|█| 20/20 [00:21<00:00,  1.05s/\n"
     ]
    },
    {
     "name": "stdout",
     "output_type": "stream",
     "text": [
      "saving model version 0.1\n",
      "[CV] END kan__datasetPath=../datasets/uniform_sin(x)_241114/train_data.csv, kan__grid=5, kan__k=3, kan__lamb=0.0, kan__lr=0.01, kan__seed=42, kan__width=[1, 5, 5, 1]; total time=  21.1s\n",
      "checkpoint directory created: ./model\n",
      "saving model version 0.0\n"
     ]
    },
    {
     "name": "stderr",
     "output_type": "stream",
     "text": [
      "| train_loss: 4.08e-01 | test_loss: 4.22e-01 | reg: 2.35e+01 | : 100%|█| 20/20 [00:21<00:00,  1.06s/\n",
      "description:   0%|                                                           | 0/20 [00:00<?, ?it/s]"
     ]
    },
    {
     "name": "stdout",
     "output_type": "stream",
     "text": [
      "saving model version 0.1\n",
      "[CV] END kan__datasetPath=../datasets/uniform_sin(x)_241114/train_data.csv, kan__grid=5, kan__k=3, kan__lamb=0.0, kan__lr=0.01, kan__seed=42, kan__width=[1, 5, 5, 1]; total time=  21.2s\n",
      "checkpoint directory created: ./model\n",
      "saving model version 0.0\n"
     ]
    },
    {
     "name": "stderr",
     "output_type": "stream",
     "text": [
      "| train_loss: 6.91e-01 | test_loss: 6.95e-01 | reg: 8.32e+00 | : 100%|█| 20/20 [00:24<00:00,  1.25s/\n",
      "description:   0%|                                                           | 0/20 [00:00<?, ?it/s]"
     ]
    },
    {
     "name": "stdout",
     "output_type": "stream",
     "text": [
      "saving model version 0.1\n",
      "[CV] END kan__datasetPath=../datasets/uniform_sin(x)_241114/train_data.csv, kan__grid=5, kan__k=3, kan__lamb=0.2, kan__lr=0.001, kan__seed=42, kan__width=[1, 5, 5, 1]; total time=  25.0s\n",
      "checkpoint directory created: ./model\n",
      "saving model version 0.0\n"
     ]
    },
    {
     "name": "stderr",
     "output_type": "stream",
     "text": [
      "| train_loss: 6.92e-01 | test_loss: 6.95e-01 | reg: 8.46e+00 | : 100%|█| 20/20 [00:25<00:00,  1.27s/\n",
      "description:   0%|                                                           | 0/20 [00:00<?, ?it/s]"
     ]
    },
    {
     "name": "stdout",
     "output_type": "stream",
     "text": [
      "saving model version 0.1\n",
      "[CV] END kan__datasetPath=../datasets/uniform_sin(x)_241114/train_data.csv, kan__grid=5, kan__k=3, kan__lamb=0.2, kan__lr=0.001, kan__seed=42, kan__width=[1, 5, 5, 1]; total time=  25.5s\n",
      "checkpoint directory created: ./model\n",
      "saving model version 0.0\n"
     ]
    },
    {
     "name": "stderr",
     "output_type": "stream",
     "text": [
      "| train_loss: 7.01e-01 | test_loss: 6.95e-01 | reg: 7.82e+00 | : 100%|█| 20/20 [00:26<00:00,  1.32s/\n",
      "| train_loss: 7.01e-01 | test_loss: 6.95e-01 | reg: 4.09e+00 | :  55%|▌| 11/20 [00:11<00:09,  1.07s/"
     ]
    },
    {
     "name": "stdout",
     "output_type": "stream",
     "text": [
      "saving model version 0.1\n",
      "[CV] END kan__datasetPath=../datasets/uniform_sin(x)_241114/train_data.csv, kan__grid=5, kan__k=3, kan__lamb=0.2, kan__lr=0.001, kan__seed=42, kan__width=[1, 5, 5, 1]; total time=  26.4s\n",
      "checkpoint directory created: ./model\n",
      "saving model version 0.0\n"
     ]
    },
    {
     "name": "stderr",
     "output_type": "stream",
     "text": [
      "| train_loss: 6.99e-01 | test_loss: 6.95e-01 | reg: 8.41e+00 | : 100%|█| 20/20 [00:24<00:00,  1.24s/\n",
      "description:   0%|                                                           | 0/20 [00:00<?, ?it/s]"
     ]
    },
    {
     "name": "stdout",
     "output_type": "stream",
     "text": [
      "saving model version 0.1\n",
      "[CV] END kan__datasetPath=../datasets/uniform_sin(x)_241114/train_data.csv, kan__grid=5, kan__k=3, kan__lamb=0.2, kan__lr=0.001, kan__seed=42, kan__width=[1, 5, 5, 1]; total time=  24.8s\n",
      "checkpoint directory created: ./model\n",
      "saving model version 0.0\n"
     ]
    },
    {
     "name": "stderr",
     "output_type": "stream",
     "text": [
      "| train_loss: 6.89e-01 | test_loss: 6.95e-01 | reg: 8.29e+00 | : 100%|█| 20/20 [00:26<00:00,  1.31s/\n",
      "| train_loss: 6.91e-01 | test_loss: 6.95e-01 | reg: 3.79e+00 | :  90%|▉| 18/20 [00:19<00:02,  1.11s/"
     ]
    },
    {
     "name": "stdout",
     "output_type": "stream",
     "text": [
      "saving model version 0.1\n",
      "[CV] END kan__datasetPath=../datasets/uniform_sin(x)_241114/train_data.csv, kan__grid=5, kan__k=3, kan__lamb=0.2, kan__lr=0.001, kan__seed=42, kan__width=[1, 5, 5, 1]; total time=  26.3s\n",
      "checkpoint directory created: ./model\n",
      "saving model version 0.0\n"
     ]
    },
    {
     "name": "stderr",
     "output_type": "stream",
     "text": [
      "| train_loss: 6.91e-01 | test_loss: 6.95e-01 | reg: 3.67e+00 | : 100%|█| 20/20 [00:21<00:00,  1.08s/\n",
      "| train_loss: 6.93e-01 | test_loss: 6.87e-01 | reg: 1.19e+01 | :  10%| | 2/20 [00:02<00:21,  1.19s/i"
     ]
    },
    {
     "name": "stdout",
     "output_type": "stream",
     "text": [
      "saving model version 0.1\n",
      "[CV] END kan__datasetPath=../datasets/uniform_sin(x)_241114/train_data.csv, kan__grid=5, kan__k=3, kan__lamb=0.1, kan__lr=0.01, kan__seed=42, kan__width=[1, 3, 3, 1]; total time=  21.6s\n",
      "checkpoint directory created: ./model\n",
      "saving model version 0.0\n"
     ]
    },
    {
     "name": "stderr",
     "output_type": "stream",
     "text": [
      "| train_loss: 6.92e-01 | test_loss: 6.95e-01 | reg: 3.42e+00 | : 100%|█| 20/20 [00:21<00:00,  1.06s/\n",
      "| train_loss: 6.82e-01 | test_loss: 6.88e-01 | reg: 1.29e+01 | :   5%| | 1/20 [00:01<00:24,  1.31s/i"
     ]
    },
    {
     "name": "stdout",
     "output_type": "stream",
     "text": [
      "saving model version 0.1\n",
      "[CV] END kan__datasetPath=../datasets/uniform_sin(x)_241114/train_data.csv, kan__grid=5, kan__k=3, kan__lamb=0.1, kan__lr=0.01, kan__seed=42, kan__width=[1, 3, 3, 1]; total time=  21.2s\n",
      "checkpoint directory created: ./model\n",
      "saving model version 0.0\n"
     ]
    },
    {
     "name": "stderr",
     "output_type": "stream",
     "text": [
      "| train_loss: 7.01e-01 | test_loss: 6.95e-01 | reg: 3.77e+00 | : 100%|█| 20/20 [00:21<00:00,  1.06s/\n",
      "| train_loss: 6.91e-01 | test_loss: 6.95e-01 | reg: 8.96e+00 | :  35%|▎| 7/20 [00:09<00:17,  1.35s/i"
     ]
    },
    {
     "name": "stdout",
     "output_type": "stream",
     "text": [
      "saving model version 0.1\n",
      "[CV] END kan__datasetPath=../datasets/uniform_sin(x)_241114/train_data.csv, kan__grid=5, kan__k=3, kan__lamb=0.1, kan__lr=0.01, kan__seed=42, kan__width=[1, 3, 3, 1]; total time=  21.3s\n"
     ]
    },
    {
     "name": "stderr",
     "output_type": "stream",
     "text": [
      "| train_loss: 6.90e-01 | test_loss: 6.95e-01 | reg: 3.70e+00 | : 100%|█| 20/20 [00:18<00:00,  1.07it\n",
      "| train_loss: 6.91e-01 | test_loss: 6.95e-01 | reg: 8.76e+00 | :  45%|▍| 9/20 [00:11<00:12,  1.12s/i"
     ]
    },
    {
     "name": "stdout",
     "output_type": "stream",
     "text": [
      "saving model version 0.1\n",
      "[CV] END kan__datasetPath=../datasets/uniform_sin(x)_241114/train_data.csv, kan__grid=5, kan__k=3, kan__lamb=0.1, kan__lr=0.01, kan__seed=42, kan__width=[1, 3, 3, 1]; total time=  18.8s\n"
     ]
    },
    {
     "name": "stderr",
     "output_type": "stream",
     "text": [
      "| train_loss: 6.99e-01 | test_loss: 6.95e-01 | reg: 3.32e+00 | : 100%|█| 20/20 [00:19<00:00,  1.02it\n",
      "| train_loss: 6.92e-01 | test_loss: 6.95e-01 | reg: 8.38e+00 | :  65%|▋| 13/20 [00:15<00:07,  1.08s/"
     ]
    },
    {
     "name": "stdout",
     "output_type": "stream",
     "text": [
      "saving model version 0.1\n",
      "[CV] END kan__datasetPath=../datasets/uniform_sin(x)_241114/train_data.csv, kan__grid=5, kan__k=3, kan__lamb=0.1, kan__lr=0.01, kan__seed=42, kan__width=[1, 3, 3, 1]; total time=  19.7s\n"
     ]
    },
    {
     "name": "stderr",
     "output_type": "stream",
     "text": [
      "| train_loss: 6.91e-01 | test_loss: 6.95e-01 | reg: 7.79e+00 | : 100%|█| 20/20 [00:20<00:00,  1.04s/\n",
      "| train_loss: 6.99e-01 | test_loss: 6.95e-01 | reg: 8.11e+00 | :  75%|▊| 15/20 [00:13<00:03,  1.28it"
     ]
    },
    {
     "name": "stdout",
     "output_type": "stream",
     "text": [
      "saving model version 0.1\n",
      "[CV] END kan__datasetPath=../datasets/uniform_sin(x)_241114/train_data.csv, kan__grid=5, kan__k=3, kan__lamb=0.1, kan__lr=0.001, kan__seed=42, kan__width=[1, 5, 5, 1]; total time=  20.8s\n"
     ]
    },
    {
     "name": "stderr",
     "output_type": "stream",
     "text": [
      "| train_loss: 6.92e-01 | test_loss: 6.95e-01 | reg: 8.01e+00 | : 100%|█| 20/20 [00:20<00:00,  1.01s/\n"
     ]
    },
    {
     "name": "stdout",
     "output_type": "stream",
     "text": [
      "saving model version 0.1\n",
      "[CV] END kan__datasetPath=../datasets/uniform_sin(x)_241114/train_data.csv, kan__grid=5, kan__k=3, kan__lamb=0.1, kan__lr=0.001, kan__seed=42, kan__width=[1, 5, 5, 1]; total time=  20.2s\n",
      "saving model version 0.1\n",
      "[CV] END kan__datasetPath=../datasets/uniform_sin(x)_241114/train_data.csv, kan__grid=5, kan__k=3, kan__lamb=0.1, kan__lr=0.001, kan__seed=42, kan__width=[1, 5, 5, 1]; total time=  18.9s\n"
     ]
    },
    {
     "name": "stderr",
     "output_type": "stream",
     "text": [
      "| train_loss: 7.00e-01 | test_loss: 6.95e-01 | reg: 7.62e+00 | : 100%|█| 20/20 [00:18<00:00,  1.06it\n",
      "| train_loss: 6.99e-01 | test_loss: 6.95e-01 | reg: 7.63e+00 | : 100%|█| 20/20 [00:16<00:00,  1.18it\n"
     ]
    },
    {
     "name": "stdout",
     "output_type": "stream",
     "text": [
      "saving model version 0.1\n",
      "[CV] END kan__datasetPath=../datasets/uniform_sin(x)_241114/train_data.csv, kan__grid=5, kan__k=3, kan__lamb=0.1, kan__lr=0.001, kan__seed=42, kan__width=[1, 5, 5, 1]; total time=  16.9s\n"
     ]
    },
    {
     "name": "stderr",
     "output_type": "stream",
     "text": [
      "| train_loss: 6.90e-01 | test_loss: 6.95e-01 | reg: 7.64e+00 | : 100%|█| 20/20 [00:19<00:00,  1.03it\n"
     ]
    },
    {
     "name": "stdout",
     "output_type": "stream",
     "text": [
      "saving model version 0.1\n",
      "[CV] END kan__datasetPath=../datasets/uniform_sin(x)_241114/train_data.csv, kan__grid=5, kan__k=3, kan__lamb=0.1, kan__lr=0.001, kan__seed=42, kan__width=[1, 5, 5, 1]; total time=  19.4s\n",
      "checkpoint directory created: ./model\n",
      "saving model version 0.0\n",
      "checkpoint directory created: ./model\n",
      "saving model version 0.0\n",
      "checkpoint directory created: ./model\n",
      "saving model version 0.0\n"
     ]
    },
    {
     "name": "stderr",
     "output_type": "stream",
     "text": [
      "| train_loss: 4.17e-01 | test_loss: 4.21e-01 | reg: 1.59e+01 | : 100%|█| 20/20 [00:09<00:00,  2.06it"
     ]
    },
    {
     "name": "stdout",
     "output_type": "stream",
     "text": [
      "saving model version 0.1\n",
      "Best Parameters: {'kan__width': [[1, 0], [3, 0], [3, 0], [1, 0]], 'kan__seed': 42, 'kan__lr': 0.01, 'kan__lamb': 0.0, 'kan__k': 3, 'kan__grid': 5, 'kan__datasetPath': '../datasets/uniform_sin(x)_241114/train_data.csv'}\n",
      "Best Cross-Validation Score: -0.18636466264724733\n"
     ]
    },
    {
     "name": "stderr",
     "output_type": "stream",
     "text": [
      "\n"
     ]
    }
   ],
   "source": [
    "test = KAN.find_best_params(datasetPath=\"../datasets/uniform_sin(x)_241114/train_data.csv\", param_grid=None)"
   ]
  },
  {
   "cell_type": "code",
   "execution_count": 27,
   "metadata": {},
   "outputs": [
    {
     "data": {
      "text/plain": [
       "{'kan__width': [[1, 0], [3, 0], [3, 0], [1, 0]],\n",
       " 'kan__seed': 42,\n",
       " 'kan__lr': 0.01,\n",
       " 'kan__lamb': 0.0,\n",
       " 'kan__k': 3,\n",
       " 'kan__grid': 5,\n",
       " 'kan__datasetPath': '../datasets/uniform_sin(x)_241114/train_data.csv'}"
      ]
     },
     "execution_count": 27,
     "metadata": {},
     "output_type": "execute_result"
    }
   ],
   "source": [
    "# write the best parameters to a file\n",
    "test\n",
    "# train on all data\n",
    "# plot the training results\n",
    "# save the training results to a file\n",
    "# test the model on the test data\n",
    "# plot the test results\n",
    "# save the test results to a file"
   ]
  },
  {
   "cell_type": "code",
   "execution_count": 25,
   "metadata": {},
   "outputs": [],
   "source": [
    "import kan as pk"
   ]
  },
  {
   "cell_type": "code",
   "execution_count": null,
   "metadata": {},
   "outputs": [
    {
     "name": "stdout",
     "output_type": "stream",
     "text": [
      "checkpoint directory created: ./model\n",
      "saving model version 0.0\n"
     ]
    },
    {
     "data": {
      "text/plain": [
       "MultKAN(\n",
       "  (act_fun): ModuleList(\n",
       "    (0-2): 3 x KANLayer(\n",
       "      (base_fun): SiLU()\n",
       "    )\n",
       "  )\n",
       "  (base_fun): SiLU()\n",
       "  (symbolic_fun): ModuleList(\n",
       "    (0-2): 3 x Symbolic_KANLayer()\n",
       "  )\n",
       ")"
      ]
     },
     "execution_count": 28,
     "metadata": {},
     "output_type": "execute_result"
    }
   ],
   "source": [
    "import kan as pk\n",
    "\n",
    "model = pk.KAN(width=test.get('kan__width'), grid=test.get('kan__grid'), k=test.get('kan__k'), seed=test.get('kan__seed'))\n",
    "\n"
   ]
  }
 ],
 "metadata": {
  "kernelspec": {
   "display_name": "pykan-env",
   "language": "python",
   "name": "python3"
  },
  "language_info": {
   "codemirror_mode": {
    "name": "ipython",
    "version": 3
   },
   "file_extension": ".py",
   "mimetype": "text/x-python",
   "name": "python",
   "nbconvert_exporter": "python",
   "pygments_lexer": "ipython3",
   "version": "3.9.18"
  }
 },
 "nbformat": 4,
 "nbformat_minor": 2
}
