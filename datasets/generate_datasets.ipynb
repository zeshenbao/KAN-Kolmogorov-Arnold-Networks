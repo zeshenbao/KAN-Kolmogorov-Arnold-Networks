{
 "cells": [
  {
   "cell_type": "code",
   "execution_count": 1,
   "id": "06a2ceb1",
   "metadata": {},
   "outputs": [],
   "source": [
    "import numpy as np\n",
    "import pandas as pd\n",
    "from noise import *"
   ]
  },
  {
   "cell_type": "code",
   "execution_count": 2,
   "id": "18938c50",
   "metadata": {},
   "outputs": [],
   "source": [
    "# function 1\n",
    "def f_1(x):\n",
    "    return x**2+x"
   ]
  },
  {
   "cell_type": "code",
   "execution_count": 3,
   "id": "1f2fc717",
   "metadata": {},
   "outputs": [],
   "source": [
    "# add function 2 here\n",
    "def f_2(x):\n",
    "    return np.sin(x)"
   ]
  },
  {
   "cell_type": "code",
   "execution_count": 4,
   "id": "a022b8e7",
   "metadata": {},
   "outputs": [],
   "source": [
    "def coloured_noise_f(x):\n",
    "    return pink_noise(np.sin(x))+pink_noise(np.sin(0.2*x))"
   ]
  },
  {
   "cell_type": "code",
   "execution_count": 5,
   "id": "52565f1f",
   "metadata": {},
   "outputs": [],
   "source": [
    "def coloured_noise_f2(x):\n",
    "    return pink_noise(0.0001*x)"
   ]
  },
  {
   "cell_type": "code",
   "execution_count": 6,
   "id": "0d53a2d1",
   "metadata": {},
   "outputs": [],
   "source": [
    "def generate_x_values(start_x, end_x, n):\n",
    "    # create n x values\n",
    "    xs = np.linspace(start_x, end_x, n)\n",
    "    return xs"
   ]
  },
  {
   "cell_type": "code",
   "execution_count": 7,
   "id": "35d1c5c0",
   "metadata": {},
   "outputs": [],
   "source": [
    "def generate_y_values(xs, func):\n",
    "    return func(xs)"
   ]
  },
  {
   "cell_type": "code",
   "execution_count": 8,
   "id": "c65406d9",
   "metadata": {},
   "outputs": [
    {
     "name": "stdout",
     "output_type": "stream",
     "text": [
      "len!! 1000\n",
      "done\n"
     ]
    }
   ],
   "source": [
    "# set amount of datapoints\n",
    "n = 1000\n",
    "\n",
    "# set startpoint and endpoint\n",
    "start_x, end_x = -10, 10\n",
    "\n",
    "# get x values\n",
    "xs = generate_x_values(start_x, end_x, n)\n",
    "\n",
    "# get y given a function\n",
    "ys = generate_y_values(xs, coloured_noise_f2)\n",
    "\n",
    "# set noise distribution\n",
    "lower_bound, upper_bound = -0.5, 0.5\n",
    "noise = np.random.uniform(lower_bound, upper_bound, n)\n",
    "\n",
    "# add noise to the y-values\n",
    "ys_noisy = ys + noise\n",
    "\n",
    "# create dataset\n",
    "data = {\n",
    "    'x': xs,\n",
    "    'y': ys_noisy\n",
    "}\n",
    "\n",
    "df = pd.DataFrame(data)\n",
    "\n",
    "# Convert DataFrame to CSV\n",
    "df.to_csv('data_pink_noise_flat.csv', index=False)\n",
    "print(\"done\")"
   ]
  }
 ],
 "metadata": {
  "kernelspec": {
   "display_name": "KAN",
   "language": "python",
   "name": "python3"
  },
  "language_info": {
   "codemirror_mode": {
    "name": "ipython",
    "version": 3
   },
   "file_extension": ".py",
   "mimetype": "text/x-python",
   "name": "python",
   "nbconvert_exporter": "python",
   "pygments_lexer": "ipython3",
   "version": "3.9.18"
  }
 },
 "nbformat": 4,
 "nbformat_minor": 5
}
