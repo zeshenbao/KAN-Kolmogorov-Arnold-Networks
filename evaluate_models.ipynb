{
 "cells": [
  {
   "cell_type": "code",
   "execution_count": null,
   "metadata": {},
   "outputs": [],
   "source": [
    "import sys\n",
    "import os\n",
    "sys.path.append(os.path.abspath(\"./MLP\"))\n",
    "sys.path.append(os.path.abspath(\"./datasets\"))\n",
    "sys.path.append(os.path.abspath(\"./KAN\"))\n",
    "from MLP import MLP\n",
    "from MLPWrapper import MLPWrapper\n",
    "from convert_data_to_input import CreateInput\n",
    "from KAN import KANWrapper\n",
    "from KAN_model import KANModel\n",
    "import torch\n",
    "from sklearn.base import BaseEstimator, RegressorMixin\n",
    "import numpy as np\n",
    "import matplotlib.pyplot as plt\n",
    "from sklearn import neural_network,pipeline,preprocessing,linear_model\n",
    "import pandas as pd\n",
    "import seaborn as sns\n",
    "from sklearn.model_selection import KFold, cross_val_score, StratifiedKFold\n",
    "from sklearn.pipeline import Pipeline\n",
    "from sklearn.preprocessing import StandardScaler\n",
    "from sklearn.model_selection import GridSearchCV, RandomizedSearchCV"
   ]
  },
  {
   "cell_type": "markdown",
   "metadata": {},
   "source": [
    "# Prepare data"
   ]
  },
  {
   "cell_type": "code",
   "execution_count": null,
   "metadata": {},
   "outputs": [],
   "source": [
    "# get input data\n",
    "deepmimo = False\n",
    "\n",
    "function_folder = \"uniform_sin(x)_241121\"\n",
    "\n",
    "data = CreateInput(function_folder, deepmimo)\n",
    "\n",
    "tensors = data.get_tensors()"
   ]
  },
  {
   "cell_type": "code",
   "execution_count": null,
   "metadata": {},
   "outputs": [],
   "source": [
    "tensors['train'][1].shape"
   ]
  },
  {
   "cell_type": "markdown",
   "metadata": {},
   "source": [
    "# Evaluate KAN"
   ]
  },
  {
   "cell_type": "code",
   "execution_count": null,
   "metadata": {},
   "outputs": [],
   "source": [
    "# find optimal params for KAN\n",
    "\n",
    "kan_wrapper = KANWrapper(data=tensors,deepmimo=deepmimo)\n",
    "\n",
    "if deepmimo:\n",
    "    param_grid = {\n",
    "        'kan__data': [tensors],\n",
    "        'kan__width': [[1024]],\n",
    "        'kan__grid': [3],\n",
    "        'kan__k': [5],\n",
    "        'kan__seed': [42],\n",
    "        'kan__lr': [0.001],\n",
    "        'kan__lamb': [0],\n",
    "        'kan__deepmimo': [True]\n",
    "    }\n",
    "\n",
    "else:\n",
    "    param_grid = {\n",
    "        'kan__data': [tensors],\n",
    "        'kan__width': [[1, 5, 1], [1, 3, 3, 1], [1, 7, 1], [1, 3, 3, 3, 1], [1, 3, 1], [1, 5, 5, 1], [1, 5, 5, 5, 1], [1, 7, 7, 1], [1, 7, 7, 7, 1]],\n",
    "        'kan__grid': [3],\n",
    "        'kan__k': [5],\n",
    "        'kan__seed': [42],\n",
    "        'kan__lr': [0.001, 0.0001],\n",
    "        'kan__lamb': [0],\n",
    "        'kan__deepmimo': [False],\n",
    "        'kan__epochs': [20]\n",
    "    }\n",
    "\n",
    "\n",
    "# (Optional) Create a pipeline if preprocessing is needed\n",
    "pipeline = Pipeline([\n",
    "    ('scaler', StandardScaler()),\n",
    "    ('kan', kan_wrapper)\n",
    "])\n",
    "\n",
    "# Initialize RandomizedSearchCV\n",
    "\"\"\"grid_search = RandomizedSearchCV(\n",
    "    estimator=pipeline,\n",
    "    param_distributions=param_grid,\n",
    "    n_iter=5,                           # Number of parameter settings sampled\n",
    "    cv=5,                                  # 5-Fold Cross-Validation\n",
    "    scoring='neg_mean_squared_error',  # Appropriate for regression\n",
    "    random_state=42,                    # For reproducibility\n",
    "    n_jobs=-1,                          # Utilize all CPU cores\n",
    "    verbose=2\n",
    ")\"\"\"\n",
    "grid_search = GridSearchCV(\n",
    "    estimator=pipeline,\n",
    "    param_grid=param_grid,\n",
    "    cv=5,                                  # 5-Fold Cross-Validation\n",
    "    scoring='neg_mean_squared_error',  # Appropriate for regression\n",
    "    n_jobs=-1,                          # Utilize all CPU cores\n",
    "    verbose=2\n",
    ")\n",
    "# Fit RandomizedSearchCV\n",
    "grid_search.fit(kan_wrapper.X_train, kan_wrapper.y_train)\n",
    "\n",
    "# Retrieve the best parameters and best score\n",
    "grid_search.best_params_['kan__data'] = []          # remove annoying print\n",
    "print(\"Best Parameters:\", grid_search.best_params_)\n",
    "print(\"Best Cross-Validation Score:\", grid_search.best_score_)\n",
    "\n",
    "opt_params_KAN = grid_search.best_params_\n"
   ]
  },
  {
   "cell_type": "code",
   "execution_count": null,
   "metadata": {},
   "outputs": [],
   "source": [
    "# evaluate KAN with optimal params\n",
    "kan_model = KANModel(width=opt_params_KAN['kan__width'], grid=opt_params_KAN['kan__grid'], k=opt_params_KAN['kan__k'], seed=opt_params_KAN['kan__seed'], lr=opt_params_KAN['kan__lr'], lamb=opt_params_KAN['kan__lamb'], deepmimo=deepmimo, epochs=100)\n",
    "kan_model.load_data(tensors)\n",
    "loss_data, time_elapsed = kan_model.fit()\n",
    "y_preds = kan_model.predict()"
   ]
  },
  {
   "cell_type": "code",
   "execution_count": null,
   "metadata": {},
   "outputs": [],
   "source": [
    "if deepmimo:\n",
    "    kan_model = KANModel(width=[1024, 10,10, 1024], grid=20, k=3, seed=42, lr=0.1, lamb=0,deepmimo=deepmimo,steps=10)\n",
    "    kan_model.load_data(tensors)\n",
    "    loss_data, time_elapsed = kan_model.fit()\n",
    "    y_preds = kan_model.predict()"
   ]
  },
  {
   "cell_type": "code",
   "execution_count": null,
   "metadata": {},
   "outputs": [],
   "source": [
    "# plot pred and true\n",
    "if deepmimo:\n",
    "    kan_model.plot_deepmimo(data=tensors, y_preds=y_preds['preds'], type_='test', save=False)\n",
    "else:\n",
    "    kan_model.plot_prediction(data=tensors, y_preds=y_preds['preds'], type_='test', save=False)"
   ]
  },
  {
   "cell_type": "code",
   "execution_count": null,
   "metadata": {},
   "outputs": [],
   "source": [
    "# plot noise and true\n",
    "if deepmimo:\n",
    "    kan_model.plot_deepmimo(data=tensors, y_preds=tensors['test'][0][:2,:], type_='test', save=False)"
   ]
  },
  {
   "cell_type": "code",
   "execution_count": null,
   "metadata": {},
   "outputs": [],
   "source": [
    "# diffrence in noise and true\n",
    "#torch.sum(np.abs(tensors['test'][0][:1,:] - tensors['test'][1][:1,:]))"
   ]
  },
  {
   "cell_type": "code",
   "execution_count": null,
   "metadata": {},
   "outputs": [],
   "source": [
    "# diffrence pred and true\n",
    "#torch.sum(np.abs(y_preds['preds'][0] - tensors['test'][1][:1,:]))"
   ]
  },
  {
   "cell_type": "code",
   "execution_count": null,
   "metadata": {},
   "outputs": [],
   "source": [
    "# plot loss\n",
    "kan_model.plot_loss(loss_data=loss_data, save=False)"
   ]
  },
  {
   "cell_type": "markdown",
   "metadata": {},
   "source": [
    "# Evaluate MLP"
   ]
  },
  {
   "cell_type": "code",
   "execution_count": null,
   "metadata": {},
   "outputs": [],
   "source": [
    "# find optimal params for mlp\n",
    "mlp_wrapper = MLPWrapper(data=tensors,deepmimo=deepmimo)\n",
    "\n",
    "if deepmimo:\n",
    "    param_grid = {\n",
    "        'mlp__data': [tensors],\n",
    "        'mlp__input_size': [1024],\n",
    "        'mlp__hidden_size': [[64,64],[500,500],[2000],[1000,1000],[300,300,300],[5000],[3000,3000],[32,32],[128,128],[256,64]],\n",
    "        'mlp__output_size': [1024],\n",
    "        'mlp__epochs': [100],\n",
    "        'mlp__deepmimo': [True]\n",
    "    }\n",
    "\n",
    "else:\n",
    "    param_grid = {\n",
    "        'mlp__data': [tensors],\n",
    "        'mlp__input_size': [1],\n",
    "        'mlp__hidden_size': [[3], [3, 3], [3, 3, 3], [5], [5, 5], [5, 5, 5], [7], [7, 7], [7, 7, 7]],\n",
    "        'mlp__output_size': [1],\n",
    "        'mlp__epochs': [20, 21],\n",
    "        'mlp__deepmimo': [False],\n",
    "        'mlp__lr': [0.001]\n",
    "    }\n",
    "\n",
    "\n",
    "# (Optional) Create a pipeline if preprocessing is needed\n",
    "pipeline = Pipeline([\n",
    "    ('scaler', StandardScaler()),  # Example preprocessor\n",
    "    ('mlp', mlp_wrapper)\n",
    "])\n",
    "\n",
    "# Initialize RandomizedSearchCV\n",
    "grid_search = RandomizedSearchCV(\n",
    "    estimator=pipeline,\n",
    "    param_distributions=param_grid,\n",
    "    n_iter=5,  # Number of parameter settings sampled\n",
    "    cv=5,        # 5-Fold Cross-Validation\n",
    "    scoring='neg_mean_squared_error',  # Appropriate for regression\n",
    "    random_state=42,                    # For reproducibility\n",
    "    n_jobs=-1,                          # Utilize all CPU cores\n",
    "    verbose=0\n",
    ")\n",
    "\n",
    "# Fit RandomizedSearchCV\n",
    "grid_search.fit(mlp_wrapper.X_train, mlp_wrapper.y_train)\n",
    "\n",
    "# Retrieve the best parameters and best score\n",
    "grid_search.best_params_['mlp__data'] = []          # remove annoying print\n",
    "print(\"Best Parameters:\", grid_search.best_params_)\n",
    "print(\"Best Cross-Validation Score:\", grid_search.best_score_)\n",
    "\n",
    "opt_params_MLP = grid_search.best_params_"
   ]
  },
  {
   "cell_type": "code",
   "execution_count": null,
   "metadata": {},
   "outputs": [],
   "source": [
    "# evaluate KAN with optimal params\n",
    "mlp_model = MLP(input_size=opt_params_MLP['mlp__input_size'], hidden_sizes=opt_params_MLP['mlp__hidden_size'], output_size=opt_params_MLP['mlp__output_size'])\n",
    "mlp_model.load_data(tensors, deepmimo=deepmimo)\n",
    "loss_data_MLP, time_elapsed_MLP = mlp_model.fit(mlp_model.X_train, mlp_model.y_train, n_epochs=100, cross_validation=False, deepmimo=deepmimo)\n",
    "y_preds_MLP = mlp_model.predict(mlp_model.X_test,eval=True)"
   ]
  },
  {
   "cell_type": "code",
   "execution_count": null,
   "metadata": {},
   "outputs": [],
   "source": [
    "# plot predictions\n",
    "if deepmimo:\n",
    "    mlp_model.plot_deepmimo(data=tensors, y_preds=y_preds_MLP['preds'], type_='test', save=False)\n",
    "else:\n",
    "    mlp_model.plot_prediction(data=tensors, y_preds=y_preds_MLP['preds'], type_='test', save=False)"
   ]
  },
  {
   "cell_type": "code",
   "execution_count": null,
   "metadata": {},
   "outputs": [],
   "source": [
    "# plot loss\n",
    "\n",
    "mlp_model.plot_loss(loss_data=loss_data_MLP, save=False, deepmimo=deepmimo)"
   ]
  }
 ],
 "metadata": {
  "kernelspec": {
   "display_name": "Python 3",
   "language": "python",
   "name": "python3"
  },
  "language_info": {
   "codemirror_mode": {
    "name": "ipython",
    "version": 3
   },
   "file_extension": ".py",
   "mimetype": "text/x-python",
   "name": "python",
   "nbconvert_exporter": "python",
   "pygments_lexer": "ipython3",
   "version": "3.9.13"
  }
 },
 "nbformat": 4,
 "nbformat_minor": 2
}
