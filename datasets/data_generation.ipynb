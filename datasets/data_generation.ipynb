{
 "cells": [
  {
   "cell_type": "markdown",
   "metadata": {},
   "source": [
    "New data generation file"
   ]
  },
  {
   "cell_type": "code",
   "execution_count": 61,
   "metadata": {},
   "outputs": [],
   "source": [
    "import numpy as np\n",
    "import pandas as pd\n",
    "from noise import *\n",
    "import random\n",
    "import os \n",
    "from sklearn.model_selection import train_test_split  # Import train_test_split"
   ]
  },
  {
   "cell_type": "markdown",
   "metadata": {},
   "source": [
    "Functions Used for Data Generation"
   ]
  },
  {
   "cell_type": "code",
   "execution_count": 62,
   "metadata": {},
   "outputs": [],
   "source": [
    "# x values\n",
    "def generate_x_values(start_x, end_x, n_datapoints):\n",
    "    # create n x values\n",
    "    xs = np.linspace(start_x, end_x, n_datapoints)\n",
    "    return xs"
   ]
  },
  {
   "cell_type": "code",
   "execution_count": 63,
   "metadata": {},
   "outputs": [],
   "source": [
    "# True functions\n",
    "def x(xs):\n",
    "    return x\n",
    "\n",
    "def x_sq(xs):\n",
    "    return xs**2\n",
    "\n",
    "def sin(xs):\n",
    "    return np.sin(xs)"
   ]
  },
  {
   "cell_type": "code",
   "execution_count": 64,
   "metadata": {},
   "outputs": [],
   "source": [
    "# Noise functions\n",
    "def pink(xs, amplitude):\n",
    "    return amplitude*pink_noise(xs)\n",
    "\n",
    "def uniform(xs, lower_bound, upper_bound):\n",
    "    return np.random.uniform(lower_bound, upper_bound)\n",
    "\n",
    "def gaussian(xs, std):\n",
    "    return np.random.normal(0, std, xs.shape)\n"
   ]
  },
  {
   "cell_type": "code",
   "execution_count": 65,
   "metadata": {},
   "outputs": [],
   "source": [
    "# SNR\n",
    "def calculate_snr(y_true, y_noise): ### write own code later\n",
    "    # Calculate signal power\n",
    "    signal_power = np.mean(y_true ** 2)\n",
    "    # Calculate noise power\n",
    "    noise_power = np.mean((y_noise - y_true) ** 2)\n",
    "    # Calculate (linear) SNR\n",
    "    snr = signal_power / noise_power\n",
    "    # Convert to dB\n",
    "    snr_db = 10 * np.log10(snr)\n",
    "    return snr, snr_db"
   ]
  },
  {
   "cell_type": "markdown",
   "metadata": {},
   "source": [
    "Change Parameters for Data Generation Here"
   ]
  },
  {
   "cell_type": "code",
   "execution_count": null,
   "metadata": {},
   "outputs": [],
   "source": [
    "# Dataset parameters\n",
    "n_datapoints = 1000  # number of (total) datapoints generated\n",
    "start_x, end_x = -10, 10  # x values to be used\n",
    "\n",
    "# Train/validation/test split parameters\n",
    "train_size = 0.7\n",
    "validation_size = 0.2\n",
    "test_size = 0.1\n",
    "\n",
    "# Function parameters\n",
    "func = sin  # Available: x, x_sq, sin\n",
    "\n",
    "# Noise parameters\n",
    "noise = gaussian  #  #TODO Available: pink, uniform, gaussian\n",
    "\n",
    "amplitude = None  \n",
    "upper_bound, lower_bound = None, None\n",
    "std = None\n",
    "\n",
    "if noise == pink:\n",
    "    amplitude = 0.01 # We want values: amplitude in (0.01, 20), to get snr_db in approx. (-30, 40) for sin(x) \n",
    "elif noise == uniform:\n",
    "    upper_bound, lower_bound = -0.01, 0.01  # We want values: upper_bound, lower_bound in (-0.01, 0.01) to (-20, 20), to ge snr_db in approx. (-30, 40) for sin(x)\n",
    "elif noise == gaussian:\n",
    "    std = 1 #Mellan [0.01, 100]\n",
    "\n"
   ]
  },
  {
   "cell_type": "markdown",
   "metadata": {},
   "source": [
    "Generation of Datasets"
   ]
  },
  {
   "cell_type": "code",
   "execution_count": 67,
   "metadata": {},
   "outputs": [],
   "source": [
    "# Dataset generation\n",
    "xs = generate_x_values(start_x, end_x, n_datapoints)  # x values\n",
    "y_true = func(xs)\n",
    "if noise == pink:\n",
    "    y_added_noise = noise(xs, amplitude)\n",
    "elif noise == uniform:\n",
    "    y_added_noise = noise(xs, lower_bound, upper_bound)\n",
    "elif noise == gaussian:\n",
    "    y_added_noise = noise(xs, std)\n",
    "\n",
    "y_noise = y_true + y_added_noise\n",
    "\n",
    "# Calculate snr, snr_db for the entire dataset\n",
    "snr, snr_db = calculate_snr(y_true, y_noise)"
   ]
  },
  {
   "cell_type": "code",
   "execution_count": 68,
   "metadata": {},
   "outputs": [],
   "source": [
    "# Gather data\n",
    "data = {'x': xs,'y_noise': y_noise, 'y_true': y_true}\n",
    "df = pd.DataFrame(data)\n",
    "\n",
    "# Split into train/validation/test sets\n",
    "train_df, test_val_test_df = train_test_split(df, train_size=train_size, random_state=42)\n",
    "if test_size == 0:  # to be able to run the code when we don't need a test set\n",
    "    validation_df = test_val_test_df\n",
    "    test_df = None\n",
    "else:\n",
    "    validation_df, test_df = train_test_split(test_val_test_df, train_size=validation_size/(validation_size+test_size), random_state=42)"
   ]
  },
  {
   "cell_type": "code",
   "execution_count": 69,
   "metadata": {},
   "outputs": [
    {
     "name": "stdout",
     "output_type": "stream",
     "text": [
      "            x   y_noise    y_true\n",
      "541  0.830831  0.760921  0.738492\n",
      "440 -1.191191 -0.886211 -0.928811\n",
      "482 -0.350350 -0.229023 -0.343227\n",
      "422 -1.551552 -1.047368 -0.999815\n",
      "778  5.575576 -0.581305 -0.650019\n",
      "------------\n",
      "            x   y_noise    y_true\n",
      "557  1.151151  0.976650  0.913234\n",
      "798  5.975976 -0.311541 -0.302400\n",
      "977  9.559560 -0.109017 -0.134374\n",
      "136 -7.277277 -0.784943 -0.838264\n",
      "575  1.511512  0.967507  0.998243\n",
      "------------\n",
      "            x   y_noise    y_true\n",
      "904  8.098098  0.942832  0.970351\n",
      "543  0.870871  0.757773  0.764890\n",
      "139 -7.217217 -0.762336 -0.804024\n",
      "526  0.530531  0.502603  0.505991\n",
      "868  7.377377  0.842863  0.888558\n"
     ]
    }
   ],
   "source": [
    "# Convert DataFrame to CSV\n",
    "print(train_df.head())\n",
    "print(\"------------\")\n",
    "print(test_df.head())\n",
    "print(\"------------\")\n",
    "print(validation_df.head())"
   ]
  },
  {
   "cell_type": "markdown",
   "metadata": {},
   "source": [
    "Save Data"
   ]
  },
  {
   "cell_type": "code",
   "execution_count": 70,
   "metadata": {},
   "outputs": [
    {
     "name": "stdout",
     "output_type": "stream",
     "text": [
      "sin_gaussian_22.84\n"
     ]
    }
   ],
   "source": [
    "# Naming of the folder and file\n",
    "func_name = func.__name__\n",
    "noise_name = noise.__name__\n",
    "folder_name = func_name + \"_\" + noise_name + \"_\" + str(round(snr_db, 2))\n",
    "print(folder_name)\n",
    "\n",
    "# Create folder\n",
    "os.makedirs(f'./datasets/{folder_name}', exist_ok=True)\n",
    "\n",
    "# Save training, validation, and test sets to CSV files\n",
    "df.to_csv(f'./datasets/{folder_name}/true_data.csv', index=False)\n",
    "train_df.to_csv(f'./datasets/{folder_name}/train_data.csv', index=False)\n",
    "validation_df.to_csv(f'./datasets/{folder_name}/validation_data.csv', index=False)\n",
    "test_df.to_csv(f'./datasets/{folder_name}/test_data.csv', index=False)\n",
    "\n",
    "# Save parameters to a text file\n",
    "file_path = f'./datasets/{folder_name}/params.txt'\n",
    "\n",
    "with open(file_path, \"w\") as file:\n",
    "    file.write(f\"n_datapoints: {n_datapoints}\\n\")\n",
    "    file.write(f\"start_x, end_x: {start_x, end_x }\\n\")\n",
    "    file.write(f\"function: {func_name}\\n\")\n",
    "    file.write(f\"noise: {noise_name}\\n\")\n",
    "    file.write(f\"snr, snr_db: {snr, snr_db}\\n\\n\")\n",
    "    file.write(f\"Noise specific\\n\")\n",
    "    file.write(f\"(pink noise only) amplitude: {amplitude}\\n\")\n",
    "    file.write(f\"(uniform noise only) upper_bound, lower_bound: {upper_bound, lower_bound}\\n\")\n",
    "    file.write(f\"(gaussian noise only) std: {std}\")"
   ]
  }
 ],
 "metadata": {
  "kernelspec": {
   "display_name": "KAN",
   "language": "python",
   "name": "python3"
  },
  "language_info": {
   "codemirror_mode": {
    "name": "ipython",
    "version": 3
   },
   "file_extension": ".py",
   "mimetype": "text/x-python",
   "name": "python",
   "nbconvert_exporter": "python",
   "pygments_lexer": "ipython3",
   "version": "3.9.18"
  }
 },
 "nbformat": 4,
 "nbformat_minor": 2
}
