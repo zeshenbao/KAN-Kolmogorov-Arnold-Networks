{
 "cells": [
  {
   "cell_type": "code",
   "execution_count": 1,
   "metadata": {},
   "outputs": [],
   "source": [
    "import numpy as np\n",
    "import pandas as pd\n",
    "from MLP import MLP\n",
    "import matplotlib.pyplot as plt\n",
    "import torch\n",
    "import time"
   ]
  },
  {
   "cell_type": "code",
   "execution_count": null,
   "metadata": {},
   "outputs": [],
   "source": [
    "def read_dataset(filename : str) -> tuple(pd.DataFrame, pd.DataFrame):\n",
    "    # read data\n",
    "    df = \"\"\n",
    "\n",
    "    # split data\n",
    "    train_data = \"\"\n",
    "    test_data =\"\"\n",
    "    return train_data, test_data"
   ]
  },
  {
   "cell_type": "code",
   "execution_count": null,
   "metadata": {},
   "outputs": [],
   "source": [
    "def evaluate_model(cfg : dict, filename : str) -> dict:\n",
    "    results = {\"train_loss\": [], \"test_loss\": 0, \"x_train\": [], \"y_train\": [], \"x_test\": [],\n",
    "                \"y_test\": [], \"y_train_pred\": [], \"y_test_pred\": [], \"x_plot_trainvals\": [], \"x_plot_testvals\": [],}\n",
    "    # get configs\n",
    "    input_size = cfg[\"input_size\"]\n",
    "    hidden_sizes = cfg[\"hidden_sizes\"]\n",
    "    output_size = cfg[\"output_size\"]\n",
    "    n_epochs = cfg[\"n_epochs\"]\n",
    "    \n",
    "    # create dataset\n",
    "    train_data, test_data = create_dataset(filename)\n",
    "    x_train = train_data[\"x\"]\n",
    "    y_train = train_data[\"y\"]\n",
    "    x_test = test_data[\"x\"]\n",
    "    y_test = test_data[\"y\"]\n",
    "    x_plot_trainvals = train_data[\"x_plot\"]\n",
    "    x_plot_testvals = test_data[\"x_plot\"]\n",
    "\n",
    "\n",
    "    # append to results\n",
    "    results[\"x_train\"] = x_train\n",
    "    results[\"y_train\"] = y_train\n",
    "    results[\"x_test\"] = x_test\n",
    "    results[\"y_test\"] = y_test\n",
    "    results[\"x_plot_trainvals\"] = x_plot_trainvals\n",
    "    results[\"x_plot_testvals\"] = x_plot_testvals\n",
    "\n",
    "    \"\"\"\n",
    "    X = torch.tensor(df[['x1', 'x2']].values).float()\n",
    "    y = torch.tensor(df['y'].values).float()\n",
    "    \"\"\"\n",
    "\n",
    "\n",
    "    # train model\n",
    "    model = MLP(input_size, hidden_sizes, output_size)\n",
    "    start = time.time()\n",
    "    model.fit(x_train,y_train,n_epochs)\n",
    "    end = time.time()\n",
    "    results[\"training_time\"] = end - start\n",
    "    results[\"train_loss\"] = model.loss_list\n",
    "\n",
    "\n",
    "    # test loss\n",
    "    y_pred = model.predict(x_test)\n",
    "    test_loss = model.loss_function(y_pred, y_test)\n",
    "    results[\"test_loss\"] = test_loss\n",
    "\n",
    "    # append to results\n",
    "    results[\"y_train_pred\"] = model.predict(x_train)\n",
    "    results[\"y_test_pred\"] = y_pred\n",
    "\n",
    "    return results"
   ]
  },
  {
   "cell_type": "code",
   "execution_count": null,
   "metadata": {},
   "outputs": [],
   "source": [
    "configs = [\n",
    "    {\"name\": \"model1\",\n",
    "    \"input_size\" : 1,\n",
    "    \"hidden_sizes\" : [8,8],\n",
    "    \"output_size\" : 1},\n",
    "]\n",
    "results = {}\n",
    "filename = \"dsfjdslkf.csv\"\n",
    "for cfg in configs:\n",
    "    if cfg[\"name\"] not in results:\n",
    "        results[cfg[\"name\"]] = {}\n",
    "    results[cfg[\"name\"]] = evaluate_model(cfg, filename)"
   ]
  }
 ],
 "metadata": {
  "kernelspec": {
   "display_name": "pykan-env",
   "language": "python",
   "name": "python3"
  },
  "language_info": {
   "codemirror_mode": {
    "name": "ipython",
    "version": 3
   },
   "file_extension": ".py",
   "mimetype": "text/x-python",
   "name": "python",
   "nbconvert_exporter": "python",
   "pygments_lexer": "ipython3",
   "version": "3.9.18"
  }
 },
 "nbformat": 4,
 "nbformat_minor": 2
}
