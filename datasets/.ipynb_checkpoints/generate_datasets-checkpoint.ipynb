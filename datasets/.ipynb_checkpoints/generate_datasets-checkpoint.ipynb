{
 "cells": [
  {
   "cell_type": "code",

   "execution_count": 1,
   "id": "06a2ceb1",
   "metadata": {},
   "outputs": [],
   "source": [
    "import numpy as np\n",
    "import pandas as pd"
   ]
  },
  {
   "cell_type": "code",
   "execution_count": 2,
   "id": "18938c50",
   "metadata": {},
   "outputs": [],
   "source": [
    "# function 1\n",
    "def f_1(x):\n",
    "    return np.sin(x)"
   ]
  },
  {
   "cell_type": "code",
   "execution_count": 3,
   "id": "1f2fc717",
   "metadata": {},
   "outputs": [],
   "source": [
    "# add function 2 here\n",
    "def f_2(x):\n",
    "    return np.sin(x)"
   ]
  },
  {
   "cell_type": "code",
   "execution_count": 4,
   "id": "0d53a2d1",
   "metadata": {},
   "outputs": [],
   "source": [
    "def generate_x_values(start_x, end_x, n):\n",
    "    # create n x values\n",
    "    xs = np.linspace(start_x, end_x, n)\n",
    "    return xs"
   ]
  },
  {
   "cell_type": "code",
   "execution_count": 5,
   "id": "35d1c5c0",
   "metadata": {},
   "outputs": [],
   "source": [
    "def generate_y_values(xs, func):\n",
    "    return func(xs)"
   ]
  },
  {
   "cell_type": "code",
   "execution_count": 6,
   "id": "c65406d9",
   "metadata": {},
   "outputs": [],
   "source": [
    "# set amount of datapoints\n",
    "n = 1000\n",
    "\n",
    "# set startpoint and endpoint\n",
    "start_x, end_x = -10, 10\n",
    "\n",
    "# get x values\n",
    "xs = generate_x_values(start_x, end_x, n)\n",
    "\n",
    "# get y given a function\n",
    "ys = generate_y_values(xs, f_2)\n",
    "\n",
    "# set noise distribution\n",
    "lower_bound, upper_bound = -0.5, 0.5\n",
    "noise = np.random.uniform(lower_bound, upper_bound, n)\n",
    "\n",
    "# add noise to the y-values\n",
    "ys_noisy = ys + noise\n",
    "\n",
    "# create dataset\n",
    "data = {\n",
    "    'x': xs,\n",
    "    'y': ys_noisy\n",
    "}\n",
    "\n",
    "df = pd.DataFrame(data)\n",
    "\n",
    "# Convert DataFrame to CSV\n",
    "df.to_csv('data_sinx.csv', index=False)"
   ]
  }
 ],
 "metadata": {
  "kernelspec": {
   "display_name": "Python 3 (ipykernel)",
   "language": "python",
   "name": "python3"
  },
  "language_info": {
   "codemirror_mode": {
    "name": "ipython",
    "version": 3
   },
   "file_extension": ".py",
   "mimetype": "text/x-python",
   "name": "python",
   "nbconvert_exporter": "python",
   "pygments_lexer": "ipython3",
   "version": "3.9.18"
  }
 },
 "nbformat": 4,
 "nbformat_minor": 5
}
