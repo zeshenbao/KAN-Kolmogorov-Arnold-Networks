{
 "cells": [
  {
   "cell_type": "code",
   "execution_count": 22,
   "metadata": {},
   "outputs": [],
   "source": [
    "import sys\n",
    "import os\n",
    "sys.path.append(os.path.abspath(\"./MLP/MLP.py\"))\n",
    "sys.path.append(os.path.abspath(\"./datasets\"))\n",
    "sys.path.append(os.path.abspath(\"./KAN\"))\n",
    "from MLP import MLP\n",
    "from convert_data_to_input import CreateInput\n",
    "from KAN import KANWrapper\n",
    "import torch"
   ]
  },
  {
   "cell_type": "code",
   "execution_count": null,
   "metadata": {},
   "outputs": [],
   "source": [
    "# get input data\n",
    "datasetPath= \"./datasets/uniform_sin(x)_241121\"\n",
    "function_folder = \"uniform_sin(x)_241121\"\n",
    "\n",
    "data = CreateInput(function_folder)\n",
    "\n",
    "tensors = data.get_tensors()\n",
    "\n",
    "X_train, y_train = tensors['train']"
   ]
  },
  {
   "cell_type": "code",
   "execution_count": null,
   "metadata": {},
   "outputs": [],
   "source": [
    "# get optimal hyperparameters KAN\n",
    "param_grid = {\n",
    "    'kan__width': [[1, 3, 3, 1]],\n",
    "    'kan__grid': [5],\n",
    "    'kan__k': [3],\n",
    "    'kan__seed': [42],\n",
    "    'kan__lr': [0.01],\n",
    "    'kan__lamb': [0.0],\n",
    "    'kan__datasetPath': [datasetPath]\n",
    "}\n",
    "opt_params = find_best_params(datasetPath=datasetPath, param_grid=param_grid)"
   ]
  },
  {
   "cell_type": "code",
   "execution_count": null,
   "metadata": {},
   "outputs": [],
   "source": [
    "# evaluate KAN with optimal params\n",
    "KANWrapper()"
   ]
  },
  {
   "cell_type": "code",
   "execution_count": null,
   "metadata": {},
   "outputs": [],
   "source": [
    "def create_dataset(filename: str) -> tuple[pd.DataFrame, pd.DataFrame, pd.DataFrame]:\n",
    "    df = pd.read_csv(filename)\n",
    "    x, y_noise, y_true = df['x'], df['y_noise'], df['y_true']\n",
    "    return x, y_noise, y_true"
   ]
  },
  {
   "cell_type": "code",
   "execution_count": null,
   "metadata": {},
   "outputs": [],
   "source": [
    "def evaluate_model(cfg : dict, foldername : str) -> dict:\n",
    "    results = {\"train_loss\": [], \"test_loss\": 0, \"x_train\": [], \"y_train\": [], \"x_test\": [],\n",
    "                \"y_test\": [], \"y_train_pred\": [], \"y_test_pred\": [], \"x_plot_trainvals\": [], \"x_plot_testvals\": [],}\n",
    "    # create dataset\n",
    "    train_data= create_dataset(train_file)\n",
    "    test_data = create_dataset(test_file)\n",
    "    val_data = create_dataset(val_file)\n",
    "    true_vals = create_dataset(f\"{foldername}/true_data.csv\")\n",
    "    # change x-values to shape (n, 1)\n",
    "    x_train = torch.tensor(train_data[1].values.reshape(len(train_data[1]), 1)).float()\n",
    "    y_train = torch.tensor(train_data[2].values.reshape(len(train_data[1]), 1)).float()\n",
    "    x_test = torch.tensor(test_data[1].values.reshape(len(test_data[1]), 1)).float().view(-1, 1)\n",
    "    y_test = torch.tensor(test_data[2].values.reshape(len(test_data[1]), 1)).float()\n",
    "    x_val = torch.tensor(val_data[1].values.reshape(len(val_data[1]), 1)).float().view(-1, 1)\n",
    "    y_val = torch.tensor(val_data[2].values.reshape(len(val_data[1]), 1)).float()\n",
    "\n",
    "    x_plot_trainvals = train_data[0]\n",
    "    x_plot_testvals = test_data[0]\n",
    "    x_plot_valvals = val_data[0]\n",
    "\n",
    "\n",
    "    # append to results\n",
    "    results[\"x_train\"] = x_train\n",
    "    results[\"y_train\"] = y_train\n",
    "    results[\"x_test\"] = x_test\n",
    "    results[\"y_test\"] = y_test\n",
    "    results[\"x_val\"] = x_val\n",
    "    results[\"y_val\"] = y_val\n",
    "    results[\"x_plot_trainvals\"] = x_plot_trainvals\n",
    "    results[\"x_plot_testvals\"] = x_plot_testvals\n",
    "    results[\"x_plot_valvals\"] = x_plot_valvals\n",
    "    results[\"true_data_x\"] = true_vals[0]\n",
    "    results[\"true_data_ynoise\"] = true_vals[1]\n",
    "    results[\"true_data_y\"] = true_vals[2]\n",
    "\n",
    "\n",
    "    # train model\n",
    "    model = MLP.MLP(input_size, hidden_sizes, output_size)\n",
    "    # set val data\n",
    "    model.set_val_data(x_val, y_val)\n",
    "\n",
    "    start = time.time()\n",
    "    model.fit(x_train,y_train,n_epochs)\n",
    "    end = time.time()\n",
    "    print(f\"Training time for model: {model_name} was: {end - start}\")\n",
    "    results[\"training_time\"] = end - start\n",
    "    results[\"train_loss\"] = model.loss_list\n",
    "    results[\"val_loss\"] = model.val_loss_list\n",
    "\n",
    "\n",
    "    # test loss\n",
    "    y_pred = model.predict(x_test)\n",
    "    results[\"y_val_pred\"] = model.predict(x_val)\n",
    "    test_loss = model.loss_function(y_pred, y_test)\n",
    "    results[\"test_loss\"] = test_loss\n",
    "    results[\"y_test_pred\"] = y_pred\n",
    "    print(f\"Test loss for model: {model_name} was: {test_loss}\")\n",
    "\n",
    "    # append to results\n",
    "    results[\"y_train_pred\"] = model.predict(x_train)\n",
    "\n",
    "    return results"
   ]
  }
 ],
 "metadata": {
  "kernelspec": {
   "display_name": "Python 3",
   "language": "python",
   "name": "python3"
  },
  "language_info": {
   "codemirror_mode": {
    "name": "ipython",
    "version": 3
   },
   "file_extension": ".py",
   "mimetype": "text/x-python",
   "name": "python",
   "nbconvert_exporter": "python",
   "pygments_lexer": "ipython3",
   "version": "3.11.4"
  }
 },
 "nbformat": 4,
 "nbformat_minor": 2
}
