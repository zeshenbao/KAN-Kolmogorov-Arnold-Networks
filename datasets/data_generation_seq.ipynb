{
 "cells": [
  {
   "cell_type": "code",
   "execution_count": 1,
   "metadata": {},
   "outputs": [],
   "source": [
    "import numpy as np\n",
    "import pandas as pd\n",
    "from noise import *\n",
    "import random\n",
    "import os \n",
    "from sklearn.model_selection import train_test_split  # Import train_test_split"
   ]
  },
  {
   "cell_type": "code",
   "execution_count": 2,
   "metadata": {},
   "outputs": [],
   "source": [
    "# x values\n",
    "def generate_x_values(start_x, end_x, n_datapoints, n_samples):\n",
    "    # create n x values\n",
    "    xs = np.linspace(start_x, end_x, n_datapoints)\n",
    "    xs = np.tile(xs, (n_samples, 1))\n",
    "    return xs"
   ]
  },
  {
   "cell_type": "code",
   "execution_count": 3,
   "metadata": {},
   "outputs": [],
   "source": [
    "# True functions\n",
    "def sin(xs):\n",
    "    return np.sin(xs)"
   ]
  },
  {
   "cell_type": "code",
   "execution_count": 4,
   "metadata": {},
   "outputs": [],
   "source": [
    "# Noise functions\n",
    "def pink(xs, amplitude):\n",
    "    y_added_noise = np.zeros(xs.shape)\n",
    "    for sample in range(xs.shape[0]):\n",
    "        y_added_noise[sample, :] = amplitude*pink_noise(xs[sample, :])\n",
    "    return y_added_noise\n",
    "\n",
    "def uniform(xs, lower_bound, upper_bound):\n",
    "    return np.random.uniform(lower_bound, upper_bound)\n",
    "\n",
    "def gaussian(xs, std):\n",
    "    return np.random.normal(0, std, xs.shape)"
   ]
  },
  {
   "cell_type": "code",
   "execution_count": 5,
   "metadata": {},
   "outputs": [],
   "source": [
    "# SNR\n",
    "def calculate_snr(y_true, y_noise): ### write own code later\n",
    "    # Calculate signal power\n",
    "    signal_power = np.mean(y_true ** 2)\n",
    "    # Calculate noise power\n",
    "    noise_power = np.mean((y_noise - y_true) ** 2)\n",
    "    # Calculate (linear) SNR\n",
    "    snr = signal_power / noise_power\n",
    "    # Convert to dB\n",
    "    snr_db = 10 * np.log10(snr)\n",
    "    return snr, snr_db"
   ]
  },
  {
   "cell_type": "code",
   "execution_count": null,
   "metadata": {},
   "outputs": [],
   "source": [
    "# Dataset parameters\n",
    "n_datapoints = 20  # number of (total) datapoints generated\n",
    "n_samples = 100\n",
    "start_x, end_x = -10, 10  # x values to be used\n",
    "\n",
    "# Train/validation/test split parameters\n",
    "train_size = 0.7\n",
    "validation_size = 0.2\n",
    "test_size = 0.1\n",
    "\n",
    "# Function parameters\n",
    "func = sin  # Available: x, x_sq, sin\n",
    "\n",
    "# Noise parameters\n",
    "noise = pink  #  #TODO Available: pink, uniform, gaussian\n",
    "\n",
    "amplitude = None  \n",
    "upper_bound, lower_bound = None, None\n",
    "std = None\n",
    "\n",
    "if noise == pink:\n",
    "    amplitude = 0.05 # We want values: amplitude in (0.01, 20), to get snr_db in approx. (-30, 40) for sin(x) \n",
    "elif noise == uniform:\n",
    "    upper_bound, lower_bound = -0.01, 0.01  # We want values: upper_bound, lower_bound in (-0.01, 0.01) to (-20, 20), to ge snr_db in approx. (-30, 40) for sin(x)\n",
    "elif noise == gaussian:\n",
    "    std = 1 #Mellan [0.01, 100]"
   ]
  },
  {
   "cell_type": "code",
   "execution_count": 7,
   "metadata": {},
   "outputs": [],
   "source": [
    "# Dataset generation\n",
    "xs = generate_x_values(start_x, end_x, n_datapoints, n_samples)  # x values\n",
    "#print(xs.shape)\n",
    "y_true = func(xs)\n",
    "\n",
    "if noise == pink:\n",
    "    y_added_noise = noise(xs, amplitude)\n",
    "elif noise == uniform:\n",
    "    y_added_noise = noise(xs, lower_bound, upper_bound)\n",
    "elif noise == gaussian:\n",
    "    y_added_noise = noise(xs, std)\n",
    "\n",
    "y_noise = y_true + y_added_noise\n",
    "\n",
    "# Calculate snr, snr_db for the entire dataset\n",
    "snr, snr_db = calculate_snr(y_true, y_noise)"
   ]
  },
  {
   "cell_type": "code",
   "execution_count": null,
   "metadata": {},
   "outputs": [],
   "source": []
  }
 ],
 "metadata": {
  "kernelspec": {
   "display_name": "Python 3",
   "language": "python",
   "name": "python3"
  },
  "language_info": {
   "codemirror_mode": {
    "name": "ipython",
    "version": 3
   },
   "file_extension": ".py",
   "mimetype": "text/x-python",
   "name": "python",
   "nbconvert_exporter": "python",
   "pygments_lexer": "ipython3",
   "version": "3.9.13"
  }
 },
 "nbformat": 4,
 "nbformat_minor": 2
}
